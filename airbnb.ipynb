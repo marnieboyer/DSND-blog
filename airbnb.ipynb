{
  "nbformat": 4,
  "nbformat_minor": 0,
  "metadata": {
    "colab": {
      "name": "airbnb.ipynb",
      "version": "0.3.2",
      "provenance": [],
      "collapsed_sections": [],
      "include_colab_link": true
    },
    "kernelspec": {
      "name": "python3",
      "display_name": "Python 3"
    }
  },
  "cells": [
    {
      "cell_type": "markdown",
      "metadata": {
        "id": "view-in-github",
        "colab_type": "text"
      },
      "source": [
        "<a href=\"https://colab.research.google.com/github/marnieboyer/DSND-blog/blob/master/airbnb.ipynb\" target=\"_parent\"><img src=\"https://colab.research.google.com/assets/colab-badge.svg\" alt=\"Open In Colab\"/></a>"
      ]
    },
    {
      "metadata": {
        "id": "gdEZdjtGpppZ",
        "colab_type": "code",
        "colab": {
          "base_uri": "https://localhost:8080/",
          "height": 68
        },
        "outputId": "a7cb3100-a0f5-472d-f7f5-c031ed2db760"
      },
      "cell_type": "code",
      "source": [
        "! pip install folium \n",
        "\n",
        "import pandas as pd\n",
        "import numpy as np\n",
        "\n",
        "import os\n",
        "import folium\n",
        "\n",
        "from matplotlib import pyplot as plt\n",
        "\n",
        "from sklearn.linear_model import LinearRegression\n",
        "from sklearn.linear_model import Ridge, RidgeCV, Lasso\n",
        "from sklearn import metrics\n",
        "from sklearn.model_selection import cross_val_score, train_test_split\n",
        "from folium.plugins import HeatMap"
      ],
      "execution_count": 1,
      "outputs": [
        {
          "output_type": "stream",
          "text": [
            "Requirement already satisfied: folium in /usr/local/lib/python3.6/dist-packages (0.2.1)\n",
            "Requirement already satisfied: Jinja2 in /usr/local/lib/python3.6/dist-packages (from folium) (2.10)\n",
            "Requirement already satisfied: MarkupSafe>=0.23 in /usr/local/lib/python3.6/dist-packages (from Jinja2->folium) (1.1.0)\n"
          ],
          "name": "stdout"
        }
      ]
    },
    {
      "metadata": {
        "id": "bap8b2xXXJ07",
        "colab_type": "code",
        "outputId": "5ca8adda-f4b4-414d-ae51-00bbd5946856",
        "colab": {
          "base_uri": "https://localhost:8080/",
          "height": 34
        }
      },
      "cell_type": "code",
      "source": [
        "from google.colab import drive\n",
        "drive.mount('/content/drive')"
      ],
      "execution_count": 2,
      "outputs": [
        {
          "output_type": "stream",
          "text": [
            "Drive already mounted at /content/drive; to attempt to forcibly remount, call drive.mount(\"/content/drive\", force_remount=True).\n"
          ],
          "name": "stdout"
        }
      ]
    },
    {
      "metadata": {
        "id": "IRKys4F_iigu",
        "colab_type": "code",
        "colab": {}
      },
      "cell_type": "code",
      "source": [
        "listings = pd.read_csv('drive/My Drive/listings.csv',dtype='str')\n",
        "calendar =  pd.read_csv('drive/My Drive/calendar.csv',dtype='str')\n",
        "reviews =  pd.read_csv('drive/My Drive/reviews.csv',dtype='str')\n"
      ],
      "execution_count": 0,
      "outputs": []
    },
    {
      "metadata": {
        "id": "KXlYXIkasfgY",
        "colab_type": "code",
        "colab": {
          "base_uri": "https://localhost:8080/",
          "height": 204
        },
        "outputId": "5d1920f9-b015-449c-b181-a345d1df2813"
      },
      "cell_type": "code",
      "source": [
        "reviews.head()"
      ],
      "execution_count": 4,
      "outputs": [
        {
          "output_type": "execute_result",
          "data": {
            "text/html": [
              "<div>\n",
              "<style scoped>\n",
              "    .dataframe tbody tr th:only-of-type {\n",
              "        vertical-align: middle;\n",
              "    }\n",
              "\n",
              "    .dataframe tbody tr th {\n",
              "        vertical-align: top;\n",
              "    }\n",
              "\n",
              "    .dataframe thead th {\n",
              "        text-align: right;\n",
              "    }\n",
              "</style>\n",
              "<table border=\"1\" class=\"dataframe\">\n",
              "  <thead>\n",
              "    <tr style=\"text-align: right;\">\n",
              "      <th></th>\n",
              "      <th>listing_id</th>\n",
              "      <th>id</th>\n",
              "      <th>date</th>\n",
              "      <th>reviewer_id</th>\n",
              "      <th>reviewer_name</th>\n",
              "      <th>comments</th>\n",
              "    </tr>\n",
              "  </thead>\n",
              "  <tbody>\n",
              "    <tr>\n",
              "      <th>0</th>\n",
              "      <td>1178162</td>\n",
              "      <td>4724140</td>\n",
              "      <td>2013-05-21</td>\n",
              "      <td>4298113</td>\n",
              "      <td>Olivier</td>\n",
              "      <td>My stay at islam's place was really cool! Good...</td>\n",
              "    </tr>\n",
              "    <tr>\n",
              "      <th>1</th>\n",
              "      <td>1178162</td>\n",
              "      <td>4869189</td>\n",
              "      <td>2013-05-29</td>\n",
              "      <td>6452964</td>\n",
              "      <td>Charlotte</td>\n",
              "      <td>Great location for both airport and city - gre...</td>\n",
              "    </tr>\n",
              "    <tr>\n",
              "      <th>2</th>\n",
              "      <td>1178162</td>\n",
              "      <td>5003196</td>\n",
              "      <td>2013-06-06</td>\n",
              "      <td>6449554</td>\n",
              "      <td>Sebastian</td>\n",
              "      <td>We really enjoyed our stay at Islams house. Fr...</td>\n",
              "    </tr>\n",
              "    <tr>\n",
              "      <th>3</th>\n",
              "      <td>1178162</td>\n",
              "      <td>5150351</td>\n",
              "      <td>2013-06-15</td>\n",
              "      <td>2215611</td>\n",
              "      <td>Marine</td>\n",
              "      <td>The room was nice and clean and so were the co...</td>\n",
              "    </tr>\n",
              "    <tr>\n",
              "      <th>4</th>\n",
              "      <td>1178162</td>\n",
              "      <td>5171140</td>\n",
              "      <td>2013-06-16</td>\n",
              "      <td>6848427</td>\n",
              "      <td>Andrew</td>\n",
              "      <td>Great location. Just 5 mins walk from the Airp...</td>\n",
              "    </tr>\n",
              "  </tbody>\n",
              "</table>\n",
              "</div>"
            ],
            "text/plain": [
              "  listing_id       id        date reviewer_id reviewer_name  \\\n",
              "0    1178162  4724140  2013-05-21     4298113       Olivier   \n",
              "1    1178162  4869189  2013-05-29     6452964     Charlotte   \n",
              "2    1178162  5003196  2013-06-06     6449554     Sebastian   \n",
              "3    1178162  5150351  2013-06-15     2215611        Marine   \n",
              "4    1178162  5171140  2013-06-16     6848427        Andrew   \n",
              "\n",
              "                                            comments  \n",
              "0  My stay at islam's place was really cool! Good...  \n",
              "1  Great location for both airport and city - gre...  \n",
              "2  We really enjoyed our stay at Islams house. Fr...  \n",
              "3  The room was nice and clean and so were the co...  \n",
              "4  Great location. Just 5 mins walk from the Airp...  "
            ]
          },
          "metadata": {
            "tags": []
          },
          "execution_count": 4
        }
      ]
    },
    {
      "metadata": {
        "id": "o9pjScaarTYP",
        "colab_type": "code",
        "outputId": "a1e1c090-fe56-4877-d62c-d6d5d4883a21",
        "colab": {
          "base_uri": "https://localhost:8080/",
          "height": 173
        }
      },
      "cell_type": "code",
      "source": [
        "calendar.describe()"
      ],
      "execution_count": 5,
      "outputs": [
        {
          "output_type": "execute_result",
          "data": {
            "text/html": [
              "<div>\n",
              "<style scoped>\n",
              "    .dataframe tbody tr th:only-of-type {\n",
              "        vertical-align: middle;\n",
              "    }\n",
              "\n",
              "    .dataframe tbody tr th {\n",
              "        vertical-align: top;\n",
              "    }\n",
              "\n",
              "    .dataframe thead th {\n",
              "        text-align: right;\n",
              "    }\n",
              "</style>\n",
              "<table border=\"1\" class=\"dataframe\">\n",
              "  <thead>\n",
              "    <tr style=\"text-align: right;\">\n",
              "      <th></th>\n",
              "      <th>listing_id</th>\n",
              "      <th>date</th>\n",
              "      <th>available</th>\n",
              "      <th>price</th>\n",
              "    </tr>\n",
              "  </thead>\n",
              "  <tbody>\n",
              "    <tr>\n",
              "      <th>count</th>\n",
              "      <td>1308890</td>\n",
              "      <td>1308890</td>\n",
              "      <td>1308890</td>\n",
              "      <td>643037</td>\n",
              "    </tr>\n",
              "    <tr>\n",
              "      <th>unique</th>\n",
              "      <td>3585</td>\n",
              "      <td>365</td>\n",
              "      <td>2</td>\n",
              "      <td>1246</td>\n",
              "    </tr>\n",
              "    <tr>\n",
              "      <th>top</th>\n",
              "      <td>12898806</td>\n",
              "      <td>2017-04-22</td>\n",
              "      <td>f</td>\n",
              "      <td>$150.00</td>\n",
              "    </tr>\n",
              "    <tr>\n",
              "      <th>freq</th>\n",
              "      <td>730</td>\n",
              "      <td>3586</td>\n",
              "      <td>665853</td>\n",
              "      <td>20752</td>\n",
              "    </tr>\n",
              "  </tbody>\n",
              "</table>\n",
              "</div>"
            ],
            "text/plain": [
              "       listing_id        date available    price\n",
              "count     1308890     1308890   1308890   643037\n",
              "unique       3585         365         2     1246\n",
              "top      12898806  2017-04-22         f  $150.00\n",
              "freq          730        3586    665853    20752"
            ]
          },
          "metadata": {
            "tags": []
          },
          "execution_count": 5
        }
      ]
    },
    {
      "metadata": {
        "id": "hDoNoJYntO7X",
        "colab_type": "code",
        "colab": {
          "base_uri": "https://localhost:8080/",
          "height": 712
        },
        "outputId": "03c90782-6e49-4de4-830a-ba65564d8922"
      },
      "cell_type": "code",
      "source": [
        "listings.head()"
      ],
      "execution_count": 6,
      "outputs": [
        {
          "output_type": "execute_result",
          "data": {
            "text/html": [
              "<div>\n",
              "<style scoped>\n",
              "    .dataframe tbody tr th:only-of-type {\n",
              "        vertical-align: middle;\n",
              "    }\n",
              "\n",
              "    .dataframe tbody tr th {\n",
              "        vertical-align: top;\n",
              "    }\n",
              "\n",
              "    .dataframe thead th {\n",
              "        text-align: right;\n",
              "    }\n",
              "</style>\n",
              "<table border=\"1\" class=\"dataframe\">\n",
              "  <thead>\n",
              "    <tr style=\"text-align: right;\">\n",
              "      <th></th>\n",
              "      <th>id</th>\n",
              "      <th>listing_url</th>\n",
              "      <th>scrape_id</th>\n",
              "      <th>last_scraped</th>\n",
              "      <th>name</th>\n",
              "      <th>summary</th>\n",
              "      <th>space</th>\n",
              "      <th>description</th>\n",
              "      <th>experiences_offered</th>\n",
              "      <th>neighborhood_overview</th>\n",
              "      <th>...</th>\n",
              "      <th>review_scores_value</th>\n",
              "      <th>requires_license</th>\n",
              "      <th>license</th>\n",
              "      <th>jurisdiction_names</th>\n",
              "      <th>instant_bookable</th>\n",
              "      <th>cancellation_policy</th>\n",
              "      <th>require_guest_profile_picture</th>\n",
              "      <th>require_guest_phone_verification</th>\n",
              "      <th>calculated_host_listings_count</th>\n",
              "      <th>reviews_per_month</th>\n",
              "    </tr>\n",
              "  </thead>\n",
              "  <tbody>\n",
              "    <tr>\n",
              "      <th>0</th>\n",
              "      <td>12147973</td>\n",
              "      <td>https://www.airbnb.com/rooms/12147973</td>\n",
              "      <td>20160906204935</td>\n",
              "      <td>2016-09-07</td>\n",
              "      <td>Sunny Bungalow in the City</td>\n",
              "      <td>Cozy, sunny, family home.  Master bedroom high...</td>\n",
              "      <td>The house has an open and cozy feel at the sam...</td>\n",
              "      <td>Cozy, sunny, family home.  Master bedroom high...</td>\n",
              "      <td>none</td>\n",
              "      <td>Roslindale is quiet, convenient and friendly. ...</td>\n",
              "      <td>...</td>\n",
              "      <td>NaN</td>\n",
              "      <td>f</td>\n",
              "      <td>NaN</td>\n",
              "      <td>NaN</td>\n",
              "      <td>f</td>\n",
              "      <td>moderate</td>\n",
              "      <td>f</td>\n",
              "      <td>f</td>\n",
              "      <td>1</td>\n",
              "      <td>NaN</td>\n",
              "    </tr>\n",
              "    <tr>\n",
              "      <th>1</th>\n",
              "      <td>3075044</td>\n",
              "      <td>https://www.airbnb.com/rooms/3075044</td>\n",
              "      <td>20160906204935</td>\n",
              "      <td>2016-09-07</td>\n",
              "      <td>Charming room in pet friendly apt</td>\n",
              "      <td>Charming and quiet room in a second floor 1910...</td>\n",
              "      <td>Small but cozy and quite room with a full size...</td>\n",
              "      <td>Charming and quiet room in a second floor 1910...</td>\n",
              "      <td>none</td>\n",
              "      <td>The room is in Roslindale, a diverse and prima...</td>\n",
              "      <td>...</td>\n",
              "      <td>9</td>\n",
              "      <td>f</td>\n",
              "      <td>NaN</td>\n",
              "      <td>NaN</td>\n",
              "      <td>t</td>\n",
              "      <td>moderate</td>\n",
              "      <td>f</td>\n",
              "      <td>f</td>\n",
              "      <td>1</td>\n",
              "      <td>1.30</td>\n",
              "    </tr>\n",
              "    <tr>\n",
              "      <th>2</th>\n",
              "      <td>6976</td>\n",
              "      <td>https://www.airbnb.com/rooms/6976</td>\n",
              "      <td>20160906204935</td>\n",
              "      <td>2016-09-07</td>\n",
              "      <td>Mexican Folk Art Haven in Boston</td>\n",
              "      <td>Come stay with a friendly, middle-aged guy in ...</td>\n",
              "      <td>Come stay with a friendly, middle-aged guy in ...</td>\n",
              "      <td>Come stay with a friendly, middle-aged guy in ...</td>\n",
              "      <td>none</td>\n",
              "      <td>The LOCATION: Roslindale is a safe and diverse...</td>\n",
              "      <td>...</td>\n",
              "      <td>10</td>\n",
              "      <td>f</td>\n",
              "      <td>NaN</td>\n",
              "      <td>NaN</td>\n",
              "      <td>f</td>\n",
              "      <td>moderate</td>\n",
              "      <td>t</td>\n",
              "      <td>f</td>\n",
              "      <td>1</td>\n",
              "      <td>0.47</td>\n",
              "    </tr>\n",
              "    <tr>\n",
              "      <th>3</th>\n",
              "      <td>1436513</td>\n",
              "      <td>https://www.airbnb.com/rooms/1436513</td>\n",
              "      <td>20160906204935</td>\n",
              "      <td>2016-09-07</td>\n",
              "      <td>Spacious Sunny Bedroom Suite in Historic Home</td>\n",
              "      <td>Come experience the comforts of home away from...</td>\n",
              "      <td>Most places you find in Boston are small howev...</td>\n",
              "      <td>Come experience the comforts of home away from...</td>\n",
              "      <td>none</td>\n",
              "      <td>Roslindale is a lovely little neighborhood loc...</td>\n",
              "      <td>...</td>\n",
              "      <td>10</td>\n",
              "      <td>f</td>\n",
              "      <td>NaN</td>\n",
              "      <td>NaN</td>\n",
              "      <td>f</td>\n",
              "      <td>moderate</td>\n",
              "      <td>f</td>\n",
              "      <td>f</td>\n",
              "      <td>1</td>\n",
              "      <td>1</td>\n",
              "    </tr>\n",
              "    <tr>\n",
              "      <th>4</th>\n",
              "      <td>7651065</td>\n",
              "      <td>https://www.airbnb.com/rooms/7651065</td>\n",
              "      <td>20160906204935</td>\n",
              "      <td>2016-09-07</td>\n",
              "      <td>Come Home to Boston</td>\n",
              "      <td>My comfy, clean and relaxing home is one block...</td>\n",
              "      <td>Clean, attractive, private room, one block fro...</td>\n",
              "      <td>My comfy, clean and relaxing home is one block...</td>\n",
              "      <td>none</td>\n",
              "      <td>I love the proximity to downtown, the neighbor...</td>\n",
              "      <td>...</td>\n",
              "      <td>10</td>\n",
              "      <td>f</td>\n",
              "      <td>NaN</td>\n",
              "      <td>NaN</td>\n",
              "      <td>f</td>\n",
              "      <td>flexible</td>\n",
              "      <td>f</td>\n",
              "      <td>f</td>\n",
              "      <td>1</td>\n",
              "      <td>2.25</td>\n",
              "    </tr>\n",
              "  </tbody>\n",
              "</table>\n",
              "<p>5 rows × 95 columns</p>\n",
              "</div>"
            ],
            "text/plain": [
              "         id                            listing_url       scrape_id  \\\n",
              "0  12147973  https://www.airbnb.com/rooms/12147973  20160906204935   \n",
              "1   3075044   https://www.airbnb.com/rooms/3075044  20160906204935   \n",
              "2      6976      https://www.airbnb.com/rooms/6976  20160906204935   \n",
              "3   1436513   https://www.airbnb.com/rooms/1436513  20160906204935   \n",
              "4   7651065   https://www.airbnb.com/rooms/7651065  20160906204935   \n",
              "\n",
              "  last_scraped                                           name  \\\n",
              "0   2016-09-07                     Sunny Bungalow in the City   \n",
              "1   2016-09-07              Charming room in pet friendly apt   \n",
              "2   2016-09-07               Mexican Folk Art Haven in Boston   \n",
              "3   2016-09-07  Spacious Sunny Bedroom Suite in Historic Home   \n",
              "4   2016-09-07                            Come Home to Boston   \n",
              "\n",
              "                                             summary  \\\n",
              "0  Cozy, sunny, family home.  Master bedroom high...   \n",
              "1  Charming and quiet room in a second floor 1910...   \n",
              "2  Come stay with a friendly, middle-aged guy in ...   \n",
              "3  Come experience the comforts of home away from...   \n",
              "4  My comfy, clean and relaxing home is one block...   \n",
              "\n",
              "                                               space  \\\n",
              "0  The house has an open and cozy feel at the sam...   \n",
              "1  Small but cozy and quite room with a full size...   \n",
              "2  Come stay with a friendly, middle-aged guy in ...   \n",
              "3  Most places you find in Boston are small howev...   \n",
              "4  Clean, attractive, private room, one block fro...   \n",
              "\n",
              "                                         description experiences_offered  \\\n",
              "0  Cozy, sunny, family home.  Master bedroom high...                none   \n",
              "1  Charming and quiet room in a second floor 1910...                none   \n",
              "2  Come stay with a friendly, middle-aged guy in ...                none   \n",
              "3  Come experience the comforts of home away from...                none   \n",
              "4  My comfy, clean and relaxing home is one block...                none   \n",
              "\n",
              "                               neighborhood_overview        ...         \\\n",
              "0  Roslindale is quiet, convenient and friendly. ...        ...          \n",
              "1  The room is in Roslindale, a diverse and prima...        ...          \n",
              "2  The LOCATION: Roslindale is a safe and diverse...        ...          \n",
              "3  Roslindale is a lovely little neighborhood loc...        ...          \n",
              "4  I love the proximity to downtown, the neighbor...        ...          \n",
              "\n",
              "  review_scores_value requires_license license jurisdiction_names  \\\n",
              "0                 NaN                f     NaN                NaN   \n",
              "1                   9                f     NaN                NaN   \n",
              "2                  10                f     NaN                NaN   \n",
              "3                  10                f     NaN                NaN   \n",
              "4                  10                f     NaN                NaN   \n",
              "\n",
              "  instant_bookable cancellation_policy require_guest_profile_picture  \\\n",
              "0                f            moderate                             f   \n",
              "1                t            moderate                             f   \n",
              "2                f            moderate                             t   \n",
              "3                f            moderate                             f   \n",
              "4                f            flexible                             f   \n",
              "\n",
              "  require_guest_phone_verification calculated_host_listings_count  \\\n",
              "0                                f                              1   \n",
              "1                                f                              1   \n",
              "2                                f                              1   \n",
              "3                                f                              1   \n",
              "4                                f                              1   \n",
              "\n",
              "  reviews_per_month  \n",
              "0               NaN  \n",
              "1              1.30  \n",
              "2              0.47  \n",
              "3                 1  \n",
              "4              2.25  \n",
              "\n",
              "[5 rows x 95 columns]"
            ]
          },
          "metadata": {
            "tags": []
          },
          "execution_count": 6
        }
      ]
    },
    {
      "metadata": {
        "id": "ZvGiCcrwtiUr",
        "colab_type": "code",
        "colab": {
          "base_uri": "https://localhost:8080/",
          "height": 324
        },
        "outputId": "c9ccc498-7f99-4bf1-d148-d965e2a48599"
      },
      "cell_type": "code",
      "source": [
        "listings.describe()"
      ],
      "execution_count": 7,
      "outputs": [
        {
          "output_type": "execute_result",
          "data": {
            "text/html": [
              "<div>\n",
              "<style scoped>\n",
              "    .dataframe tbody tr th:only-of-type {\n",
              "        vertical-align: middle;\n",
              "    }\n",
              "\n",
              "    .dataframe tbody tr th {\n",
              "        vertical-align: top;\n",
              "    }\n",
              "\n",
              "    .dataframe thead th {\n",
              "        text-align: right;\n",
              "    }\n",
              "</style>\n",
              "<table border=\"1\" class=\"dataframe\">\n",
              "  <thead>\n",
              "    <tr style=\"text-align: right;\">\n",
              "      <th></th>\n",
              "      <th>id</th>\n",
              "      <th>listing_url</th>\n",
              "      <th>scrape_id</th>\n",
              "      <th>last_scraped</th>\n",
              "      <th>name</th>\n",
              "      <th>summary</th>\n",
              "      <th>space</th>\n",
              "      <th>description</th>\n",
              "      <th>experiences_offered</th>\n",
              "      <th>neighborhood_overview</th>\n",
              "      <th>...</th>\n",
              "      <th>review_scores_value</th>\n",
              "      <th>requires_license</th>\n",
              "      <th>license</th>\n",
              "      <th>jurisdiction_names</th>\n",
              "      <th>instant_bookable</th>\n",
              "      <th>cancellation_policy</th>\n",
              "      <th>require_guest_profile_picture</th>\n",
              "      <th>require_guest_phone_verification</th>\n",
              "      <th>calculated_host_listings_count</th>\n",
              "      <th>reviews_per_month</th>\n",
              "    </tr>\n",
              "  </thead>\n",
              "  <tbody>\n",
              "    <tr>\n",
              "      <th>count</th>\n",
              "      <td>3585</td>\n",
              "      <td>3585</td>\n",
              "      <td>3585</td>\n",
              "      <td>3585</td>\n",
              "      <td>3585</td>\n",
              "      <td>3442</td>\n",
              "      <td>2528</td>\n",
              "      <td>3585</td>\n",
              "      <td>3585</td>\n",
              "      <td>2170</td>\n",
              "      <td>...</td>\n",
              "      <td>2764</td>\n",
              "      <td>3585</td>\n",
              "      <td>0.0</td>\n",
              "      <td>0.0</td>\n",
              "      <td>3585</td>\n",
              "      <td>3585</td>\n",
              "      <td>3585</td>\n",
              "      <td>3585</td>\n",
              "      <td>3585</td>\n",
              "      <td>2829</td>\n",
              "    </tr>\n",
              "    <tr>\n",
              "      <th>unique</th>\n",
              "      <td>3585</td>\n",
              "      <td>3585</td>\n",
              "      <td>1</td>\n",
              "      <td>1</td>\n",
              "      <td>3504</td>\n",
              "      <td>3113</td>\n",
              "      <td>2268</td>\n",
              "      <td>3423</td>\n",
              "      <td>1</td>\n",
              "      <td>1728</td>\n",
              "      <td>...</td>\n",
              "      <td>9</td>\n",
              "      <td>1</td>\n",
              "      <td>0.0</td>\n",
              "      <td>0.0</td>\n",
              "      <td>2</td>\n",
              "      <td>4</td>\n",
              "      <td>2</td>\n",
              "      <td>2</td>\n",
              "      <td>25</td>\n",
              "      <td>651</td>\n",
              "    </tr>\n",
              "    <tr>\n",
              "      <th>top</th>\n",
              "      <td>12409042</td>\n",
              "      <td>https://www.airbnb.com/rooms/13642655</td>\n",
              "      <td>20160906204935</td>\n",
              "      <td>2016-09-07</td>\n",
              "      <td>Lux 2BR by Fenway w/WiFi</td>\n",
              "      <td>The unit is stylishly designed for comfort, va...</td>\n",
              "      <td>The studio's kitchenette comes equipped with a...</td>\n",
              "      <td>Private room in a HOSTEL exclusive for Airbnb ...</td>\n",
              "      <td>none</td>\n",
              "      <td>Conveniently bordering the neighborhoods of th...</td>\n",
              "      <td>...</td>\n",
              "      <td>10</td>\n",
              "      <td>f</td>\n",
              "      <td>NaN</td>\n",
              "      <td>NaN</td>\n",
              "      <td>f</td>\n",
              "      <td>strict</td>\n",
              "      <td>f</td>\n",
              "      <td>f</td>\n",
              "      <td>1</td>\n",
              "      <td>1</td>\n",
              "    </tr>\n",
              "    <tr>\n",
              "      <th>freq</th>\n",
              "      <td>1</td>\n",
              "      <td>1</td>\n",
              "      <td>3585</td>\n",
              "      <td>3585</td>\n",
              "      <td>8</td>\n",
              "      <td>21</td>\n",
              "      <td>17</td>\n",
              "      <td>7</td>\n",
              "      <td>3585</td>\n",
              "      <td>21</td>\n",
              "      <td>...</td>\n",
              "      <td>1177</td>\n",
              "      <td>3585</td>\n",
              "      <td>NaN</td>\n",
              "      <td>NaN</td>\n",
              "      <td>2991</td>\n",
              "      <td>1582</td>\n",
              "      <td>3518</td>\n",
              "      <td>3348</td>\n",
              "      <td>1768</td>\n",
              "      <td>111</td>\n",
              "    </tr>\n",
              "  </tbody>\n",
              "</table>\n",
              "<p>4 rows × 95 columns</p>\n",
              "</div>"
            ],
            "text/plain": [
              "              id                            listing_url       scrape_id  \\\n",
              "count       3585                                   3585            3585   \n",
              "unique      3585                                   3585               1   \n",
              "top     12409042  https://www.airbnb.com/rooms/13642655  20160906204935   \n",
              "freq           1                                      1            3585   \n",
              "\n",
              "       last_scraped                      name  \\\n",
              "count          3585                      3585   \n",
              "unique            1                      3504   \n",
              "top      2016-09-07  Lux 2BR by Fenway w/WiFi   \n",
              "freq           3585                         8   \n",
              "\n",
              "                                                  summary  \\\n",
              "count                                                3442   \n",
              "unique                                               3113   \n",
              "top     The unit is stylishly designed for comfort, va...   \n",
              "freq                                                   21   \n",
              "\n",
              "                                                    space  \\\n",
              "count                                                2528   \n",
              "unique                                               2268   \n",
              "top     The studio's kitchenette comes equipped with a...   \n",
              "freq                                                   17   \n",
              "\n",
              "                                              description experiences_offered  \\\n",
              "count                                                3585                3585   \n",
              "unique                                               3423                   1   \n",
              "top     Private room in a HOSTEL exclusive for Airbnb ...                none   \n",
              "freq                                                    7                3585   \n",
              "\n",
              "                                    neighborhood_overview        ...         \\\n",
              "count                                                2170        ...          \n",
              "unique                                               1728        ...          \n",
              "top     Conveniently bordering the neighborhoods of th...        ...          \n",
              "freq                                                   21        ...          \n",
              "\n",
              "       review_scores_value requires_license license jurisdiction_names  \\\n",
              "count                 2764             3585     0.0                0.0   \n",
              "unique                   9                1     0.0                0.0   \n",
              "top                     10                f     NaN                NaN   \n",
              "freq                  1177             3585     NaN                NaN   \n",
              "\n",
              "       instant_bookable cancellation_policy require_guest_profile_picture  \\\n",
              "count              3585                3585                          3585   \n",
              "unique                2                   4                             2   \n",
              "top                   f              strict                             f   \n",
              "freq               2991                1582                          3518   \n",
              "\n",
              "       require_guest_phone_verification calculated_host_listings_count  \\\n",
              "count                              3585                           3585   \n",
              "unique                                2                             25   \n",
              "top                                   f                              1   \n",
              "freq                               3348                           1768   \n",
              "\n",
              "       reviews_per_month  \n",
              "count               2829  \n",
              "unique               651  \n",
              "top                    1  \n",
              "freq                 111  \n",
              "\n",
              "[4 rows x 95 columns]"
            ]
          },
          "metadata": {
            "tags": []
          },
          "execution_count": 7
        }
      ]
    },
    {
      "metadata": {
        "id": "TuNXeuSfzRsP",
        "colab_type": "code",
        "colab": {
          "base_uri": "https://localhost:8080/",
          "height": 510
        },
        "outputId": "fa78ea33-77cd-4379-dc05-31d1dfc72f27"
      },
      "cell_type": "code",
      "source": [
        "listings.columns"
      ],
      "execution_count": 8,
      "outputs": [
        {
          "output_type": "execute_result",
          "data": {
            "text/plain": [
              "Index(['id', 'listing_url', 'scrape_id', 'last_scraped', 'name', 'summary',\n",
              "       'space', 'description', 'experiences_offered', 'neighborhood_overview',\n",
              "       'notes', 'transit', 'access', 'interaction', 'house_rules',\n",
              "       'thumbnail_url', 'medium_url', 'picture_url', 'xl_picture_url',\n",
              "       'host_id', 'host_url', 'host_name', 'host_since', 'host_location',\n",
              "       'host_about', 'host_response_time', 'host_response_rate',\n",
              "       'host_acceptance_rate', 'host_is_superhost', 'host_thumbnail_url',\n",
              "       'host_picture_url', 'host_neighbourhood', 'host_listings_count',\n",
              "       'host_total_listings_count', 'host_verifications',\n",
              "       'host_has_profile_pic', 'host_identity_verified', 'street',\n",
              "       'neighbourhood', 'neighbourhood_cleansed',\n",
              "       'neighbourhood_group_cleansed', 'city', 'state', 'zipcode', 'market',\n",
              "       'smart_location', 'country_code', 'country', 'latitude', 'longitude',\n",
              "       'is_location_exact', 'property_type', 'room_type', 'accommodates',\n",
              "       'bathrooms', 'bedrooms', 'beds', 'bed_type', 'amenities', 'square_feet',\n",
              "       'price', 'weekly_price', 'monthly_price', 'security_deposit',\n",
              "       'cleaning_fee', 'guests_included', 'extra_people', 'minimum_nights',\n",
              "       'maximum_nights', 'calendar_updated', 'has_availability',\n",
              "       'availability_30', 'availability_60', 'availability_90',\n",
              "       'availability_365', 'calendar_last_scraped', 'number_of_reviews',\n",
              "       'first_review', 'last_review', 'review_scores_rating',\n",
              "       'review_scores_accuracy', 'review_scores_cleanliness',\n",
              "       'review_scores_checkin', 'review_scores_communication',\n",
              "       'review_scores_location', 'review_scores_value', 'requires_license',\n",
              "       'license', 'jurisdiction_names', 'instant_bookable',\n",
              "       'cancellation_policy', 'require_guest_profile_picture',\n",
              "       'require_guest_phone_verification', 'calculated_host_listings_count',\n",
              "       'reviews_per_month'],\n",
              "      dtype='object')"
            ]
          },
          "metadata": {
            "tags": []
          },
          "execution_count": 8
        }
      ]
    },
    {
      "metadata": {
        "id": "HzQn2S9P03-m",
        "colab_type": "code",
        "colab": {
          "base_uri": "https://localhost:8080/",
          "height": 34
        },
        "outputId": "fed1393b-674e-49a5-aca0-161065c6d2e7"
      },
      "cell_type": "code",
      "source": [
        "calendar.columns"
      ],
      "execution_count": 9,
      "outputs": [
        {
          "output_type": "execute_result",
          "data": {
            "text/plain": [
              "Index(['listing_id', 'date', 'available', 'price'], dtype='object')"
            ]
          },
          "metadata": {
            "tags": []
          },
          "execution_count": 9
        }
      ]
    },
    {
      "metadata": {
        "id": "NSNfP45K1jGu",
        "colab_type": "code",
        "colab": {
          "base_uri": "https://localhost:8080/",
          "height": 204
        },
        "outputId": "84b55f8b-13f8-4c11-b630-bd5bd2719646"
      },
      "cell_type": "code",
      "source": [
        "calendar.head()"
      ],
      "execution_count": 10,
      "outputs": [
        {
          "output_type": "execute_result",
          "data": {
            "text/html": [
              "<div>\n",
              "<style scoped>\n",
              "    .dataframe tbody tr th:only-of-type {\n",
              "        vertical-align: middle;\n",
              "    }\n",
              "\n",
              "    .dataframe tbody tr th {\n",
              "        vertical-align: top;\n",
              "    }\n",
              "\n",
              "    .dataframe thead th {\n",
              "        text-align: right;\n",
              "    }\n",
              "</style>\n",
              "<table border=\"1\" class=\"dataframe\">\n",
              "  <thead>\n",
              "    <tr style=\"text-align: right;\">\n",
              "      <th></th>\n",
              "      <th>listing_id</th>\n",
              "      <th>date</th>\n",
              "      <th>available</th>\n",
              "      <th>price</th>\n",
              "    </tr>\n",
              "  </thead>\n",
              "  <tbody>\n",
              "    <tr>\n",
              "      <th>0</th>\n",
              "      <td>12147973</td>\n",
              "      <td>2017-09-05</td>\n",
              "      <td>f</td>\n",
              "      <td>NaN</td>\n",
              "    </tr>\n",
              "    <tr>\n",
              "      <th>1</th>\n",
              "      <td>12147973</td>\n",
              "      <td>2017-09-04</td>\n",
              "      <td>f</td>\n",
              "      <td>NaN</td>\n",
              "    </tr>\n",
              "    <tr>\n",
              "      <th>2</th>\n",
              "      <td>12147973</td>\n",
              "      <td>2017-09-03</td>\n",
              "      <td>f</td>\n",
              "      <td>NaN</td>\n",
              "    </tr>\n",
              "    <tr>\n",
              "      <th>3</th>\n",
              "      <td>12147973</td>\n",
              "      <td>2017-09-02</td>\n",
              "      <td>f</td>\n",
              "      <td>NaN</td>\n",
              "    </tr>\n",
              "    <tr>\n",
              "      <th>4</th>\n",
              "      <td>12147973</td>\n",
              "      <td>2017-09-01</td>\n",
              "      <td>f</td>\n",
              "      <td>NaN</td>\n",
              "    </tr>\n",
              "  </tbody>\n",
              "</table>\n",
              "</div>"
            ],
            "text/plain": [
              "  listing_id        date available price\n",
              "0   12147973  2017-09-05         f   NaN\n",
              "1   12147973  2017-09-04         f   NaN\n",
              "2   12147973  2017-09-03         f   NaN\n",
              "3   12147973  2017-09-02         f   NaN\n",
              "4   12147973  2017-09-01         f   NaN"
            ]
          },
          "metadata": {
            "tags": []
          },
          "execution_count": 10
        }
      ]
    },
    {
      "metadata": {
        "id": "eMGVf0GL06qI",
        "colab_type": "code",
        "colab": {
          "base_uri": "https://localhost:8080/",
          "height": 34
        },
        "outputId": "270ae9ba-4e47-4ee3-f4f4-35034832645f"
      },
      "cell_type": "code",
      "source": [
        "reviews.columns"
      ],
      "execution_count": 11,
      "outputs": [
        {
          "output_type": "execute_result",
          "data": {
            "text/plain": [
              "Index(['listing_id', 'id', 'date', 'reviewer_id', 'reviewer_name', 'comments'], dtype='object')"
            ]
          },
          "metadata": {
            "tags": []
          },
          "execution_count": 11
        }
      ]
    },
    {
      "metadata": {
        "id": "VUnZffpQjIGn",
        "colab_type": "code",
        "colab": {}
      },
      "cell_type": "code",
      "source": [
        "keep_columns = ['id', 'price',\n",
        "       'neighbourhood_cleansed', \n",
        "       'property_type', 'room_type', 'accommodates',\n",
        "       'bathrooms', 'bedrooms', 'beds', 'bed_type', 'amenities', 'square_feet',\n",
        "       # remove other prices which will naturally be correlated to price: 'weekly_price', 'monthly_price', 'security_deposit',\n",
        "       'cleaning_fee', 'guests_included', \n",
        "       'number_of_reviews',\n",
        "        'review_scores_rating',\n",
        "       'review_scores_accuracy', 'review_scores_cleanliness',\n",
        "       'review_scores_checkin', 'review_scores_communication',\n",
        "       'review_scores_location', 'review_scores_value', 'requires_license',\n",
        "        'instant_bookable',\n",
        "       'cancellation_policy', 'require_guest_profile_picture',\n",
        "       'require_guest_phone_verification', 'calculated_host_listings_count',\n",
        "       'reviews_per_month']"
      ],
      "execution_count": 0,
      "outputs": []
    },
    {
      "metadata": {
        "id": "X6xAPA_1Ihrj",
        "colab_type": "code",
        "colab": {}
      },
      "cell_type": "code",
      "source": [
        "train = listings[keep_columns]"
      ],
      "execution_count": 0,
      "outputs": []
    },
    {
      "metadata": {
        "id": "mCwgyFvAIpQn",
        "colab_type": "code",
        "colab": {
          "base_uri": "https://localhost:8080/",
          "height": 338
        },
        "outputId": "6da68ec1-301c-4ab3-e562-4de40380347f"
      },
      "cell_type": "code",
      "source": [
        "train.head()"
      ],
      "execution_count": 14,
      "outputs": [
        {
          "output_type": "execute_result",
          "data": {
            "text/html": [
              "<div>\n",
              "<style scoped>\n",
              "    .dataframe tbody tr th:only-of-type {\n",
              "        vertical-align: middle;\n",
              "    }\n",
              "\n",
              "    .dataframe tbody tr th {\n",
              "        vertical-align: top;\n",
              "    }\n",
              "\n",
              "    .dataframe thead th {\n",
              "        text-align: right;\n",
              "    }\n",
              "</style>\n",
              "<table border=\"1\" class=\"dataframe\">\n",
              "  <thead>\n",
              "    <tr style=\"text-align: right;\">\n",
              "      <th></th>\n",
              "      <th>id</th>\n",
              "      <th>price</th>\n",
              "      <th>neighbourhood_cleansed</th>\n",
              "      <th>property_type</th>\n",
              "      <th>room_type</th>\n",
              "      <th>accommodates</th>\n",
              "      <th>bathrooms</th>\n",
              "      <th>bedrooms</th>\n",
              "      <th>beds</th>\n",
              "      <th>bed_type</th>\n",
              "      <th>...</th>\n",
              "      <th>review_scores_communication</th>\n",
              "      <th>review_scores_location</th>\n",
              "      <th>review_scores_value</th>\n",
              "      <th>requires_license</th>\n",
              "      <th>instant_bookable</th>\n",
              "      <th>cancellation_policy</th>\n",
              "      <th>require_guest_profile_picture</th>\n",
              "      <th>require_guest_phone_verification</th>\n",
              "      <th>calculated_host_listings_count</th>\n",
              "      <th>reviews_per_month</th>\n",
              "    </tr>\n",
              "  </thead>\n",
              "  <tbody>\n",
              "    <tr>\n",
              "      <th>0</th>\n",
              "      <td>12147973</td>\n",
              "      <td>$250.00</td>\n",
              "      <td>Roslindale</td>\n",
              "      <td>House</td>\n",
              "      <td>Entire home/apt</td>\n",
              "      <td>4</td>\n",
              "      <td>1.5</td>\n",
              "      <td>2</td>\n",
              "      <td>3</td>\n",
              "      <td>Real Bed</td>\n",
              "      <td>...</td>\n",
              "      <td>NaN</td>\n",
              "      <td>NaN</td>\n",
              "      <td>NaN</td>\n",
              "      <td>f</td>\n",
              "      <td>f</td>\n",
              "      <td>moderate</td>\n",
              "      <td>f</td>\n",
              "      <td>f</td>\n",
              "      <td>1</td>\n",
              "      <td>NaN</td>\n",
              "    </tr>\n",
              "    <tr>\n",
              "      <th>1</th>\n",
              "      <td>3075044</td>\n",
              "      <td>$65.00</td>\n",
              "      <td>Roslindale</td>\n",
              "      <td>Apartment</td>\n",
              "      <td>Private room</td>\n",
              "      <td>2</td>\n",
              "      <td>1.0</td>\n",
              "      <td>1</td>\n",
              "      <td>1</td>\n",
              "      <td>Real Bed</td>\n",
              "      <td>...</td>\n",
              "      <td>10</td>\n",
              "      <td>9</td>\n",
              "      <td>9</td>\n",
              "      <td>f</td>\n",
              "      <td>t</td>\n",
              "      <td>moderate</td>\n",
              "      <td>f</td>\n",
              "      <td>f</td>\n",
              "      <td>1</td>\n",
              "      <td>1.30</td>\n",
              "    </tr>\n",
              "    <tr>\n",
              "      <th>2</th>\n",
              "      <td>6976</td>\n",
              "      <td>$65.00</td>\n",
              "      <td>Roslindale</td>\n",
              "      <td>Apartment</td>\n",
              "      <td>Private room</td>\n",
              "      <td>2</td>\n",
              "      <td>1.0</td>\n",
              "      <td>1</td>\n",
              "      <td>1</td>\n",
              "      <td>Real Bed</td>\n",
              "      <td>...</td>\n",
              "      <td>10</td>\n",
              "      <td>9</td>\n",
              "      <td>10</td>\n",
              "      <td>f</td>\n",
              "      <td>f</td>\n",
              "      <td>moderate</td>\n",
              "      <td>t</td>\n",
              "      <td>f</td>\n",
              "      <td>1</td>\n",
              "      <td>0.47</td>\n",
              "    </tr>\n",
              "    <tr>\n",
              "      <th>3</th>\n",
              "      <td>1436513</td>\n",
              "      <td>$75.00</td>\n",
              "      <td>Roslindale</td>\n",
              "      <td>House</td>\n",
              "      <td>Private room</td>\n",
              "      <td>4</td>\n",
              "      <td>1.0</td>\n",
              "      <td>1</td>\n",
              "      <td>2</td>\n",
              "      <td>Real Bed</td>\n",
              "      <td>...</td>\n",
              "      <td>10</td>\n",
              "      <td>10</td>\n",
              "      <td>10</td>\n",
              "      <td>f</td>\n",
              "      <td>f</td>\n",
              "      <td>moderate</td>\n",
              "      <td>f</td>\n",
              "      <td>f</td>\n",
              "      <td>1</td>\n",
              "      <td>1</td>\n",
              "    </tr>\n",
              "    <tr>\n",
              "      <th>4</th>\n",
              "      <td>7651065</td>\n",
              "      <td>$79.00</td>\n",
              "      <td>Roslindale</td>\n",
              "      <td>House</td>\n",
              "      <td>Private room</td>\n",
              "      <td>2</td>\n",
              "      <td>1.5</td>\n",
              "      <td>1</td>\n",
              "      <td>2</td>\n",
              "      <td>Real Bed</td>\n",
              "      <td>...</td>\n",
              "      <td>10</td>\n",
              "      <td>9</td>\n",
              "      <td>10</td>\n",
              "      <td>f</td>\n",
              "      <td>f</td>\n",
              "      <td>flexible</td>\n",
              "      <td>f</td>\n",
              "      <td>f</td>\n",
              "      <td>1</td>\n",
              "      <td>2.25</td>\n",
              "    </tr>\n",
              "  </tbody>\n",
              "</table>\n",
              "<p>5 rows × 29 columns</p>\n",
              "</div>"
            ],
            "text/plain": [
              "         id    price neighbourhood_cleansed property_type        room_type  \\\n",
              "0  12147973  $250.00             Roslindale         House  Entire home/apt   \n",
              "1   3075044   $65.00             Roslindale     Apartment     Private room   \n",
              "2      6976   $65.00             Roslindale     Apartment     Private room   \n",
              "3   1436513   $75.00             Roslindale         House     Private room   \n",
              "4   7651065   $79.00             Roslindale         House     Private room   \n",
              "\n",
              "  accommodates bathrooms bedrooms beds  bed_type        ...         \\\n",
              "0            4       1.5        2    3  Real Bed        ...          \n",
              "1            2       1.0        1    1  Real Bed        ...          \n",
              "2            2       1.0        1    1  Real Bed        ...          \n",
              "3            4       1.0        1    2  Real Bed        ...          \n",
              "4            2       1.5        1    2  Real Bed        ...          \n",
              "\n",
              "  review_scores_communication review_scores_location review_scores_value  \\\n",
              "0                         NaN                    NaN                 NaN   \n",
              "1                          10                      9                   9   \n",
              "2                          10                      9                  10   \n",
              "3                          10                     10                  10   \n",
              "4                          10                      9                  10   \n",
              "\n",
              "  requires_license instant_bookable cancellation_policy  \\\n",
              "0                f                f            moderate   \n",
              "1                f                t            moderate   \n",
              "2                f                f            moderate   \n",
              "3                f                f            moderate   \n",
              "4                f                f            flexible   \n",
              "\n",
              "  require_guest_profile_picture require_guest_phone_verification  \\\n",
              "0                             f                                f   \n",
              "1                             f                                f   \n",
              "2                             t                                f   \n",
              "3                             f                                f   \n",
              "4                             f                                f   \n",
              "\n",
              "  calculated_host_listings_count reviews_per_month  \n",
              "0                              1               NaN  \n",
              "1                              1              1.30  \n",
              "2                              1              0.47  \n",
              "3                              1                 1  \n",
              "4                              1              2.25  \n",
              "\n",
              "[5 rows x 29 columns]"
            ]
          },
          "metadata": {
            "tags": []
          },
          "execution_count": 14
        }
      ]
    },
    {
      "metadata": {
        "id": "JpwvchHZ4v_K",
        "colab_type": "code",
        "colab": {
          "base_uri": "https://localhost:8080/",
          "height": 527
        },
        "outputId": "a440847b-c80f-42fe-fe3c-3fd6a7e44c3b"
      },
      "cell_type": "code",
      "source": [
        "# Check the data types in the calendar table\n",
        "train.dtypes"
      ],
      "execution_count": 15,
      "outputs": [
        {
          "output_type": "execute_result",
          "data": {
            "text/plain": [
              "id                                  object\n",
              "price                               object\n",
              "neighbourhood_cleansed              object\n",
              "property_type                       object\n",
              "room_type                           object\n",
              "accommodates                        object\n",
              "bathrooms                           object\n",
              "bedrooms                            object\n",
              "beds                                object\n",
              "bed_type                            object\n",
              "amenities                           object\n",
              "square_feet                         object\n",
              "cleaning_fee                        object\n",
              "guests_included                     object\n",
              "number_of_reviews                   object\n",
              "review_scores_rating                object\n",
              "review_scores_accuracy              object\n",
              "review_scores_cleanliness           object\n",
              "review_scores_checkin               object\n",
              "review_scores_communication         object\n",
              "review_scores_location              object\n",
              "review_scores_value                 object\n",
              "requires_license                    object\n",
              "instant_bookable                    object\n",
              "cancellation_policy                 object\n",
              "require_guest_profile_picture       object\n",
              "require_guest_phone_verification    object\n",
              "calculated_host_listings_count      object\n",
              "reviews_per_month                   object\n",
              "dtype: object"
            ]
          },
          "metadata": {
            "tags": []
          },
          "execution_count": 15
        }
      ]
    },
    {
      "metadata": {
        "id": "OvadH7KZe_Oo",
        "colab_type": "text"
      },
      "cell_type": "markdown",
      "source": [
        "### Need to turn some columns into a number so I can perform calculations with it. For price, you can see that the format includes a dollar sign, so need to remove that first."
      ]
    },
    {
      "metadata": {
        "id": "0AomEljDguEw",
        "colab_type": "code",
        "colab": {}
      },
      "cell_type": "code",
      "source": [
        "train = listings[keep_columns]"
      ],
      "execution_count": 0,
      "outputs": []
    },
    {
      "metadata": {
        "id": "bZGygELA41M0",
        "colab_type": "code",
        "colab": {
          "base_uri": "https://localhost:8080/",
          "height": 323
        },
        "outputId": "01f94480-a653-4a73-fcbb-0fabc35bd27a"
      },
      "cell_type": "code",
      "source": [
        "train['price'] = train.price.str.replace(',','')\n",
        "train['price'] = train.price.str.replace('$','')\n",
        "train[['price']] = train[['price']].astype(float)\n",
        "\n",
        "train[['bedrooms']] = train[['bedrooms']].astype(float)\n",
        "train[['bathrooms']] = train[['bathrooms']].astype(float)\n",
        "train[['beds']] = train[['beds']].astype(float)\n",
        "train[['accommodates']] = train[['accommodates']].astype(float)"
      ],
      "execution_count": 17,
      "outputs": [
        {
          "output_type": "stream",
          "text": [
            "/usr/local/lib/python3.6/dist-packages/ipykernel_launcher.py:1: SettingWithCopyWarning: \n",
            "A value is trying to be set on a copy of a slice from a DataFrame.\n",
            "Try using .loc[row_indexer,col_indexer] = value instead\n",
            "\n",
            "See the caveats in the documentation: http://pandas.pydata.org/pandas-docs/stable/indexing.html#indexing-view-versus-copy\n",
            "  \"\"\"Entry point for launching an IPython kernel.\n",
            "/usr/local/lib/python3.6/dist-packages/ipykernel_launcher.py:2: SettingWithCopyWarning: \n",
            "A value is trying to be set on a copy of a slice from a DataFrame.\n",
            "Try using .loc[row_indexer,col_indexer] = value instead\n",
            "\n",
            "See the caveats in the documentation: http://pandas.pydata.org/pandas-docs/stable/indexing.html#indexing-view-versus-copy\n",
            "  \n",
            "/usr/local/lib/python3.6/dist-packages/pandas/core/frame.py:2540: SettingWithCopyWarning: \n",
            "A value is trying to be set on a copy of a slice from a DataFrame.\n",
            "Try using .loc[row_indexer,col_indexer] = value instead\n",
            "\n",
            "See the caveats in the documentation: http://pandas.pydata.org/pandas-docs/stable/indexing.html#indexing-view-versus-copy\n",
            "  self[k1] = value[k2]\n"
          ],
          "name": "stderr"
        }
      ]
    },
    {
      "metadata": {
        "id": "36BxZjnqbMpM",
        "colab_type": "code",
        "colab": {}
      },
      "cell_type": "code",
      "source": [
        ""
      ],
      "execution_count": 0,
      "outputs": []
    },
    {
      "metadata": {
        "id": "6amFuW25VriK",
        "colab_type": "code",
        "colab": {
          "base_uri": "https://localhost:8080/",
          "height": 337
        },
        "outputId": "5984be12-e3f0-44eb-9a5c-9d7fc25d4407"
      },
      "cell_type": "code",
      "source": [
        "train[\"price\"].hist(bins = 10,figsize = (10,5))\n"
      ],
      "execution_count": 18,
      "outputs": [
        {
          "output_type": "execute_result",
          "data": {
            "text/plain": [
              "<matplotlib.axes._subplots.AxesSubplot at 0x7f858cceaf98>"
            ]
          },
          "metadata": {
            "tags": []
          },
          "execution_count": 18
        },
        {
          "output_type": "display_data",
          "data": {
            "image/png": "[encoded data removed]",
            "text/plain": [
              "<matplotlib.figure.Figure at 0x7f858ccea940>"
            ]
          },
          "metadata": {
            "tags": []
          }
        }
      ]
    },
    {
      "metadata": {
        "id": "ilMXPNNiVsaT",
        "colab_type": "code",
        "colab": {
          "base_uri": "https://localhost:8080/",
          "height": 364
        },
        "outputId": "10e87dd4-4440-4689-bc56-d6ef358c3767"
      },
      "cell_type": "code",
      "source": [
        "# You can see that there are some crazy outliers, remove them\n",
        "\n",
        "train = train.loc[train['price'] <= 500]\n",
        "train[\"price\"].hist(bins = 30)"
      ],
      "execution_count": 19,
      "outputs": [
        {
          "output_type": "execute_result",
          "data": {
            "text/plain": [
              "<matplotlib.axes._subplots.AxesSubplot at 0x7f858cceaa58>"
            ]
          },
          "metadata": {
            "tags": []
          },
          "execution_count": 19
        },
        {
          "output_type": "display_data",
          "data": {
            "image/png": "[encoded data removed]",
            "text/plain": [
              "<matplotlib.figure.Figure at 0x7f858cc0d5f8>"
            ]
          },
          "metadata": {
            "tags": []
          }
        }
      ]
    },
    {
      "metadata": {
        "id": "i58EAOswXdvh",
        "colab_type": "text"
      },
      "cell_type": "markdown",
      "source": [
        "### What are the most expensive neighborhoods to rent in Boston?"
      ]
    },
    {
      "metadata": {
        "id": "IqU_ZVExSzoQ",
        "colab_type": "code",
        "colab": {}
      },
      "cell_type": "code",
      "source": [
        "neighborhood = train.groupby(['neighbourhood_cleansed'])['price'].mean()\n",
        "neighborhood = neighborhood.to_frame().reset_index()\n",
        "neighborhood = neighborhood.sort_values(by='price',ascending=False)"
      ],
      "execution_count": 0,
      "outputs": []
    },
    {
      "metadata": {
        "id": "8bOSe6a0LR2h",
        "colab_type": "code",
        "colab": {
          "base_uri": "https://localhost:8080/",
          "height": 571
        },
        "outputId": "8120a85a-f086-4b1e-9a32-931ae634ac31"
      },
      "cell_type": "code",
      "source": [
        "ax = neighborhood.plot.bar(x='neighbourhood_cleansed', y='price', rot=45, figsize = (15,8))\n"
      ],
      "execution_count": 21,
      "outputs": [
        {
          "output_type": "display_data",
          "data": {
            "image/png": "[encoded data removed]",
            "text/plain": [
              "<matplotlib.figure.Figure at 0x7f858a343470>"
            ]
          },
          "metadata": {
            "tags": []
          }
        }
      ]
    },
    {
      "metadata": {
        "id": "swj_mJdTkera",
        "colab_type": "code",
        "colab": {
          "base_uri": "https://localhost:8080/",
          "height": 571
        },
        "outputId": "c9491b69-a8e7-4e9e-c1de-09419659cc7c"
      },
      "cell_type": "code",
      "source": [
        "neighborhoodct = train.groupby(['neighbourhood_cleansed'])['price'].count()\n",
        "neighborhoodct = neighborhoodct.to_frame().reset_index()\n",
        "neighborhoodct = neighborhoodct.sort_values(by='price',ascending=False)\n",
        "ax2 = neighborhoodct.plot.bar(x='neighbourhood_cleansed', y='price', rot=45, figsize = (15,8))"
      ],
      "execution_count": 22,
      "outputs": [
        {
          "output_type": "display_data",
          "data": {
            "image/png": "[encoded data removed]",
            "text/plain": [
              "<matplotlib.figure.Figure at 0x7f858a26b0f0>"
            ]
          },
          "metadata": {
            "tags": []
          }
        }
      ]
    },
    {
      "metadata": {
        "id": "YaqZRCJTJhtA",
        "colab_type": "code",
        "colab": {}
      },
      "cell_type": "code",
      "source": [
        "#Property Type\n",
        "prop = train.groupby(['property_type'])['price'].mean()\n",
        "prop = prop.to_frame().reset_index()\n",
        "prop = prop.sort_values(by='price',ascending=False)"
      ],
      "execution_count": 0,
      "outputs": []
    },
    {
      "metadata": {
        "id": "35RJN_VZJhcw",
        "colab_type": "code",
        "colab": {
          "base_uri": "https://localhost:8080/",
          "height": 545
        },
        "outputId": "4c2a1358-9dc3-4736-9af1-276612e22fb4"
      },
      "cell_type": "code",
      "source": [
        "ax2 = prop.plot.bar(x='property_type', y='price', rot=45, figsize = (15,8))"
      ],
      "execution_count": 24,
      "outputs": [
        {
          "output_type": "display_data",
          "data": {
            "image/png": "[encoded data removed]",
            "text/plain": [
              "<matplotlib.figure.Figure at 0x7f858a154320>"
            ]
          },
          "metadata": {
            "tags": []
          }
        }
      ]
    },
    {
      "metadata": {
        "id": "A_CsgjjpZRCs",
        "colab_type": "code",
        "colab": {
          "base_uri": "https://localhost:8080/",
          "height": 323
        },
        "outputId": "7513c909-f2d5-4576-b5d4-52a030f142a4"
      },
      "cell_type": "code",
      "source": [
        "locs = listings[['latitude', 'longitude','price']]\n",
        "\n",
        "locs['price'] = locs.price.str.replace(',','')\n",
        "locs['price'] = locs.price.str.replace('$','')\n",
        "locs[['latitude','longitude','price']] = locs[['latitude','longitude','price']].astype(float)\n",
        "\n"
      ],
      "execution_count": 25,
      "outputs": [
        {
          "output_type": "stream",
          "text": [
            "/usr/local/lib/python3.6/dist-packages/ipykernel_launcher.py:3: SettingWithCopyWarning: \n",
            "A value is trying to be set on a copy of a slice from a DataFrame.\n",
            "Try using .loc[row_indexer,col_indexer] = value instead\n",
            "\n",
            "See the caveats in the documentation: http://pandas.pydata.org/pandas-docs/stable/indexing.html#indexing-view-versus-copy\n",
            "  This is separate from the ipykernel package so we can avoid doing imports until\n",
            "/usr/local/lib/python3.6/dist-packages/ipykernel_launcher.py:4: SettingWithCopyWarning: \n",
            "A value is trying to be set on a copy of a slice from a DataFrame.\n",
            "Try using .loc[row_indexer,col_indexer] = value instead\n",
            "\n",
            "See the caveats in the documentation: http://pandas.pydata.org/pandas-docs/stable/indexing.html#indexing-view-versus-copy\n",
            "  after removing the cwd from sys.path.\n",
            "/usr/local/lib/python3.6/dist-packages/pandas/core/frame.py:2540: SettingWithCopyWarning: \n",
            "A value is trying to be set on a copy of a slice from a DataFrame.\n",
            "Try using .loc[row_indexer,col_indexer] = value instead\n",
            "\n",
            "See the caveats in the documentation: http://pandas.pydata.org/pandas-docs/stable/indexing.html#indexing-view-versus-copy\n",
            "  self[k1] = value[k2]\n"
          ],
          "name": "stderr"
        }
      ]
    },
    {
      "metadata": {
        "id": "3kLa5JEFfZMW",
        "colab_type": "code",
        "colab": {}
      },
      "cell_type": "code",
      "source": [
        "just_locs = locs.drop(['price'],axis = 1)\n",
        "price = locs[['price']]"
      ],
      "execution_count": 0,
      "outputs": []
    },
    {
      "metadata": {
        "id": "Er_brUAGJr0S",
        "colab_type": "code",
        "colab": {
          "base_uri": "https://localhost:8080/",
          "height": 737
        },
        "outputId": "c2cf4fa1-ee95-4c53-ef3b-56bdaeeac4d3"
      },
      "cell_type": "code",
      "source": [
        "data1 =  just_locs.values.tolist()\n",
        "data2 =  locs.values.tolist()\n",
        "\n",
        "m = folium.Map(location=[42.3198, -71.0589],  width=1150, height=800, zoom_start = 12)\n",
        "\n",
        "#'stamentoner'\n",
        "\n",
        "HeatMap(data1,radius = 10).add_to(m)\n",
        "\n",
        "m"
      ],
      "execution_count": 73,
      "outputs": [
        {
          "output_type": "execute_result",
          "data": {
            "text/html": [
              "<div style=\"width:100%;\"><div style=\"position:relative;width:100%;height:0;padding-bottom:60%;\"><iframe src=\"data:text/html;base64,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\" style=\"position:absolute;width:100%;height:100%;left:0;top:0;\"></iframe></div></div>"
            ],
            "text/plain": [
              "<folium.folium.Map at 0x7f85844b6390>"
            ]
          },
          "metadata": {
            "tags": []
          },
          "execution_count": 73
        }
      ]
    },
    {
      "metadata": {
        "id": "au2lP0MRdOOL",
        "colab_type": "code",
        "colab": {
          "base_uri": "https://localhost:8080/",
          "height": 337
        },
        "outputId": "ff54dbb8-dea4-4af2-9672-42e6d44cbafa"
      },
      "cell_type": "code",
      "source": [
        "train[\"accommodates\"].hist(bins = 20,figsize = (10,5))\n"
      ],
      "execution_count": 28,
      "outputs": [
        {
          "output_type": "execute_result",
          "data": {
            "text/plain": [
              "<matplotlib.axes._subplots.AxesSubplot at 0x7f858a14e7f0>"
            ]
          },
          "metadata": {
            "tags": []
          },
          "execution_count": 28
        },
        {
          "output_type": "display_data",
          "data": {
            "image/png": "[encoded data removed]",
            "text/plain": [
              "<matplotlib.figure.Figure at 0x7f85888acb38>"
            ]
          },
          "metadata": {
            "tags": []
          }
        }
      ]
    },
    {
      "metadata": {
        "id": "aZGk5zMthxwn",
        "colab_type": "text"
      },
      "cell_type": "markdown",
      "source": [
        "### Most rentals accomodate 5 or fewer people."
      ]
    },
    {
      "metadata": {
        "id": "uc_l-oWTSBGY",
        "colab_type": "code",
        "colab": {
          "base_uri": "https://localhost:8080/",
          "height": 414
        },
        "outputId": "679f74fc-7d0a-429b-9730-5a15f70ca20b"
      },
      "cell_type": "code",
      "source": [
        "import seaborn as sns\n",
        "sns.barplot(x = \"accommodates\", y = \"price\", data = train)"
      ],
      "execution_count": 29,
      "outputs": [
        {
          "output_type": "stream",
          "text": [
            "/usr/local/lib/python3.6/dist-packages/seaborn/categorical.py:1428: FutureWarning: remove_na is deprecated and is a private function. Do not use.\n",
            "  stat_data = remove_na(group_data)\n"
          ],
          "name": "stderr"
        },
        {
          "output_type": "execute_result",
          "data": {
            "text/plain": [
              "<matplotlib.axes._subplots.AxesSubplot at 0x7f858a1b2320>"
            ]
          },
          "metadata": {
            "tags": []
          },
          "execution_count": 29
        },
        {
          "output_type": "display_data",
          "data": {
            "image/png": "[encoded data removed]",
            "text/plain": [
              "<matplotlib.figure.Figure at 0x7f858a1467f0>"
            ]
          },
          "metadata": {
            "tags": []
          }
        }
      ]
    },
    {
      "metadata": {
        "id": "PJw5Wu0ke726",
        "colab_type": "text"
      },
      "cell_type": "markdown",
      "source": [
        ""
      ]
    },
    {
      "metadata": {
        "id": "RRA1nHt8e76b",
        "colab_type": "text"
      },
      "cell_type": "markdown",
      "source": [
        "## Prepare data for modeling"
      ]
    },
    {
      "metadata": {
        "id": "gizm68cEiOAQ",
        "colab_type": "text"
      },
      "cell_type": "markdown",
      "source": [
        "#### Need to encode the categoricals"
      ]
    },
    {
      "metadata": {
        "id": "rTHuSKCNiI8p",
        "colab_type": "code",
        "colab": {}
      },
      "cell_type": "code",
      "source": [
        "cat_columns = [\n",
        "       'neighbourhood_cleansed', \n",
        "       'property_type', 'room_type', \n",
        "        'bed_type', \n",
        "       'cancellation_policy']"
      ],
      "execution_count": 0,
      "outputs": []
    },
    {
      "metadata": {
        "id": "Im2SlN9Ei8DK",
        "colab_type": "code",
        "colab": {}
      },
      "cell_type": "code",
      "source": [
        "train_model = pd.get_dummies(train[cat_columns])"
      ],
      "execution_count": 0,
      "outputs": []
    },
    {
      "metadata": {
        "id": "vRuNnS4si_50",
        "colab_type": "code",
        "colab": {
          "base_uri": "https://localhost:8080/",
          "height": 270
        },
        "outputId": "ecd7590e-34f2-410e-dad7-d3b1cad505cd"
      },
      "cell_type": "code",
      "source": [
        "train_model.head()"
      ],
      "execution_count": 32,
      "outputs": [
        {
          "output_type": "execute_result",
          "data": {
            "text/html": [
              "<div>\n",
              "<style scoped>\n",
              "    .dataframe tbody tr th:only-of-type {\n",
              "        vertical-align: middle;\n",
              "    }\n",
              "\n",
              "    .dataframe tbody tr th {\n",
              "        vertical-align: top;\n",
              "    }\n",
              "\n",
              "    .dataframe thead th {\n",
              "        text-align: right;\n",
              "    }\n",
              "</style>\n",
              "<table border=\"1\" class=\"dataframe\">\n",
              "  <thead>\n",
              "    <tr style=\"text-align: right;\">\n",
              "      <th></th>\n",
              "      <th>neighbourhood_cleansed_Allston</th>\n",
              "      <th>neighbourhood_cleansed_Back Bay</th>\n",
              "      <th>neighbourhood_cleansed_Bay Village</th>\n",
              "      <th>neighbourhood_cleansed_Beacon Hill</th>\n",
              "      <th>neighbourhood_cleansed_Brighton</th>\n",
              "      <th>neighbourhood_cleansed_Charlestown</th>\n",
              "      <th>neighbourhood_cleansed_Chinatown</th>\n",
              "      <th>neighbourhood_cleansed_Dorchester</th>\n",
              "      <th>neighbourhood_cleansed_Downtown</th>\n",
              "      <th>neighbourhood_cleansed_East Boston</th>\n",
              "      <th>...</th>\n",
              "      <th>room_type_Shared room</th>\n",
              "      <th>bed_type_Airbed</th>\n",
              "      <th>bed_type_Couch</th>\n",
              "      <th>bed_type_Futon</th>\n",
              "      <th>bed_type_Pull-out Sofa</th>\n",
              "      <th>bed_type_Real Bed</th>\n",
              "      <th>cancellation_policy_flexible</th>\n",
              "      <th>cancellation_policy_moderate</th>\n",
              "      <th>cancellation_policy_strict</th>\n",
              "      <th>cancellation_policy_super_strict_30</th>\n",
              "    </tr>\n",
              "  </thead>\n",
              "  <tbody>\n",
              "    <tr>\n",
              "      <th>0</th>\n",
              "      <td>0</td>\n",
              "      <td>0</td>\n",
              "      <td>0</td>\n",
              "      <td>0</td>\n",
              "      <td>0</td>\n",
              "      <td>0</td>\n",
              "      <td>0</td>\n",
              "      <td>0</td>\n",
              "      <td>0</td>\n",
              "      <td>0</td>\n",
              "      <td>...</td>\n",
              "      <td>0</td>\n",
              "      <td>0</td>\n",
              "      <td>0</td>\n",
              "      <td>0</td>\n",
              "      <td>0</td>\n",
              "      <td>1</td>\n",
              "      <td>0</td>\n",
              "      <td>1</td>\n",
              "      <td>0</td>\n",
              "      <td>0</td>\n",
              "    </tr>\n",
              "    <tr>\n",
              "      <th>1</th>\n",
              "      <td>0</td>\n",
              "      <td>0</td>\n",
              "      <td>0</td>\n",
              "      <td>0</td>\n",
              "      <td>0</td>\n",
              "      <td>0</td>\n",
              "      <td>0</td>\n",
              "      <td>0</td>\n",
              "      <td>0</td>\n",
              "      <td>0</td>\n",
              "      <td>...</td>\n",
              "      <td>0</td>\n",
              "      <td>0</td>\n",
              "      <td>0</td>\n",
              "      <td>0</td>\n",
              "      <td>0</td>\n",
              "      <td>1</td>\n",
              "      <td>0</td>\n",
              "      <td>1</td>\n",
              "      <td>0</td>\n",
              "      <td>0</td>\n",
              "    </tr>\n",
              "    <tr>\n",
              "      <th>2</th>\n",
              "      <td>0</td>\n",
              "      <td>0</td>\n",
              "      <td>0</td>\n",
              "      <td>0</td>\n",
              "      <td>0</td>\n",
              "      <td>0</td>\n",
              "      <td>0</td>\n",
              "      <td>0</td>\n",
              "      <td>0</td>\n",
              "      <td>0</td>\n",
              "      <td>...</td>\n",
              "      <td>0</td>\n",
              "      <td>0</td>\n",
              "      <td>0</td>\n",
              "      <td>0</td>\n",
              "      <td>0</td>\n",
              "      <td>1</td>\n",
              "      <td>0</td>\n",
              "      <td>1</td>\n",
              "      <td>0</td>\n",
              "      <td>0</td>\n",
              "    </tr>\n",
              "    <tr>\n",
              "      <th>3</th>\n",
              "      <td>0</td>\n",
              "      <td>0</td>\n",
              "      <td>0</td>\n",
              "      <td>0</td>\n",
              "      <td>0</td>\n",
              "      <td>0</td>\n",
              "      <td>0</td>\n",
              "      <td>0</td>\n",
              "      <td>0</td>\n",
              "      <td>0</td>\n",
              "      <td>...</td>\n",
              "      <td>0</td>\n",
              "      <td>0</td>\n",
              "      <td>0</td>\n",
              "      <td>0</td>\n",
              "      <td>0</td>\n",
              "      <td>1</td>\n",
              "      <td>0</td>\n",
              "      <td>1</td>\n",
              "      <td>0</td>\n",
              "      <td>0</td>\n",
              "    </tr>\n",
              "    <tr>\n",
              "      <th>4</th>\n",
              "      <td>0</td>\n",
              "      <td>0</td>\n",
              "      <td>0</td>\n",
              "      <td>0</td>\n",
              "      <td>0</td>\n",
              "      <td>0</td>\n",
              "      <td>0</td>\n",
              "      <td>0</td>\n",
              "      <td>0</td>\n",
              "      <td>0</td>\n",
              "      <td>...</td>\n",
              "      <td>0</td>\n",
              "      <td>0</td>\n",
              "      <td>0</td>\n",
              "      <td>0</td>\n",
              "      <td>0</td>\n",
              "      <td>1</td>\n",
              "      <td>1</td>\n",
              "      <td>0</td>\n",
              "      <td>0</td>\n",
              "      <td>0</td>\n",
              "    </tr>\n",
              "  </tbody>\n",
              "</table>\n",
              "<p>5 rows × 50 columns</p>\n",
              "</div>"
            ],
            "text/plain": [
              "   neighbourhood_cleansed_Allston  neighbourhood_cleansed_Back Bay  \\\n",
              "0                               0                                0   \n",
              "1                               0                                0   \n",
              "2                               0                                0   \n",
              "3                               0                                0   \n",
              "4                               0                                0   \n",
              "\n",
              "   neighbourhood_cleansed_Bay Village  neighbourhood_cleansed_Beacon Hill  \\\n",
              "0                                   0                                   0   \n",
              "1                                   0                                   0   \n",
              "2                                   0                                   0   \n",
              "3                                   0                                   0   \n",
              "4                                   0                                   0   \n",
              "\n",
              "   neighbourhood_cleansed_Brighton  neighbourhood_cleansed_Charlestown  \\\n",
              "0                                0                                   0   \n",
              "1                                0                                   0   \n",
              "2                                0                                   0   \n",
              "3                                0                                   0   \n",
              "4                                0                                   0   \n",
              "\n",
              "   neighbourhood_cleansed_Chinatown  neighbourhood_cleansed_Dorchester  \\\n",
              "0                                 0                                  0   \n",
              "1                                 0                                  0   \n",
              "2                                 0                                  0   \n",
              "3                                 0                                  0   \n",
              "4                                 0                                  0   \n",
              "\n",
              "   neighbourhood_cleansed_Downtown  neighbourhood_cleansed_East Boston  \\\n",
              "0                                0                                   0   \n",
              "1                                0                                   0   \n",
              "2                                0                                   0   \n",
              "3                                0                                   0   \n",
              "4                                0                                   0   \n",
              "\n",
              "                  ...                   room_type_Shared room  \\\n",
              "0                 ...                                       0   \n",
              "1                 ...                                       0   \n",
              "2                 ...                                       0   \n",
              "3                 ...                                       0   \n",
              "4                 ...                                       0   \n",
              "\n",
              "   bed_type_Airbed  bed_type_Couch  bed_type_Futon  bed_type_Pull-out Sofa  \\\n",
              "0                0               0               0                       0   \n",
              "1                0               0               0                       0   \n",
              "2                0               0               0                       0   \n",
              "3                0               0               0                       0   \n",
              "4                0               0               0                       0   \n",
              "\n",
              "   bed_type_Real Bed  cancellation_policy_flexible  \\\n",
              "0                  1                             0   \n",
              "1                  1                             0   \n",
              "2                  1                             0   \n",
              "3                  1                             0   \n",
              "4                  1                             1   \n",
              "\n",
              "   cancellation_policy_moderate  cancellation_policy_strict  \\\n",
              "0                             1                           0   \n",
              "1                             1                           0   \n",
              "2                             1                           0   \n",
              "3                             1                           0   \n",
              "4                             0                           0   \n",
              "\n",
              "   cancellation_policy_super_strict_30  \n",
              "0                                    0  \n",
              "1                                    0  \n",
              "2                                    0  \n",
              "3                                    0  \n",
              "4                                    0  \n",
              "\n",
              "[5 rows x 50 columns]"
            ]
          },
          "metadata": {
            "tags": []
          },
          "execution_count": 32
        }
      ]
    },
    {
      "metadata": {
        "id": "VzqhIAnSjgiA",
        "colab_type": "text"
      },
      "cell_type": "markdown",
      "source": [
        "#### Next look at the text columns"
      ]
    },
    {
      "metadata": {
        "id": "ZSVTs9l6jJ94",
        "colab_type": "code",
        "colab": {}
      },
      "cell_type": "code",
      "source": [
        "train.amenities = train.amenities.str.replace(\"[{}]\", \"\")"
      ],
      "execution_count": 0,
      "outputs": []
    },
    {
      "metadata": {
        "id": "jqIq2h89keUX",
        "colab_type": "code",
        "colab": {}
      },
      "cell_type": "code",
      "source": [
        "amenities = train.amenities.str.get_dummies(sep = \",\")"
      ],
      "execution_count": 0,
      "outputs": []
    },
    {
      "metadata": {
        "id": "PJ8qcLnjkgLB",
        "colab_type": "code",
        "colab": {
          "base_uri": "https://localhost:8080/",
          "height": 304
        },
        "outputId": "5bf2c7e8-1e6d-4f39-8fc8-c7a1a6bf0d96"
      },
      "cell_type": "code",
      "source": [
        "amenities.head()"
      ],
      "execution_count": 35,
      "outputs": [
        {
          "output_type": "execute_result",
          "data": {
            "text/html": [
              "<div>\n",
              "<style scoped>\n",
              "    .dataframe tbody tr th:only-of-type {\n",
              "        vertical-align: middle;\n",
              "    }\n",
              "\n",
              "    .dataframe tbody tr th {\n",
              "        vertical-align: top;\n",
              "    }\n",
              "\n",
              "    .dataframe thead th {\n",
              "        text-align: right;\n",
              "    }\n",
              "</style>\n",
              "<table border=\"1\" class=\"dataframe\">\n",
              "  <thead>\n",
              "    <tr style=\"text-align: right;\">\n",
              "      <th></th>\n",
              "      <th>\"24-Hour Check-in\"</th>\n",
              "      <th>\"Air Conditioning\"</th>\n",
              "      <th>\"Buzzer/Wireless Intercom\"</th>\n",
              "      <th>\"Cable TV\"</th>\n",
              "      <th>\"Carbon Monoxide Detector\"</th>\n",
              "      <th>\"Elevator in Building\"</th>\n",
              "      <th>\"Family/Kid Friendly\"</th>\n",
              "      <th>\"Fire Extinguisher\"</th>\n",
              "      <th>\"First Aid Kit\"</th>\n",
              "      <th>\"Free Parking on Premises\"</th>\n",
              "      <th>...</th>\n",
              "      <th>Gym</th>\n",
              "      <th>Hangers</th>\n",
              "      <th>Heating</th>\n",
              "      <th>Internet</th>\n",
              "      <th>Iron</th>\n",
              "      <th>Kitchen</th>\n",
              "      <th>Pool</th>\n",
              "      <th>Shampoo</th>\n",
              "      <th>TV</th>\n",
              "      <th>Washer</th>\n",
              "    </tr>\n",
              "  </thead>\n",
              "  <tbody>\n",
              "    <tr>\n",
              "      <th>0</th>\n",
              "      <td>0</td>\n",
              "      <td>0</td>\n",
              "      <td>0</td>\n",
              "      <td>0</td>\n",
              "      <td>0</td>\n",
              "      <td>0</td>\n",
              "      <td>1</td>\n",
              "      <td>1</td>\n",
              "      <td>0</td>\n",
              "      <td>1</td>\n",
              "      <td>...</td>\n",
              "      <td>0</td>\n",
              "      <td>0</td>\n",
              "      <td>1</td>\n",
              "      <td>0</td>\n",
              "      <td>0</td>\n",
              "      <td>1</td>\n",
              "      <td>0</td>\n",
              "      <td>1</td>\n",
              "      <td>1</td>\n",
              "      <td>1</td>\n",
              "    </tr>\n",
              "    <tr>\n",
              "      <th>1</th>\n",
              "      <td>0</td>\n",
              "      <td>1</td>\n",
              "      <td>0</td>\n",
              "      <td>0</td>\n",
              "      <td>1</td>\n",
              "      <td>0</td>\n",
              "      <td>1</td>\n",
              "      <td>1</td>\n",
              "      <td>0</td>\n",
              "      <td>0</td>\n",
              "      <td>...</td>\n",
              "      <td>0</td>\n",
              "      <td>1</td>\n",
              "      <td>1</td>\n",
              "      <td>1</td>\n",
              "      <td>1</td>\n",
              "      <td>1</td>\n",
              "      <td>0</td>\n",
              "      <td>1</td>\n",
              "      <td>1</td>\n",
              "      <td>1</td>\n",
              "    </tr>\n",
              "    <tr>\n",
              "      <th>2</th>\n",
              "      <td>0</td>\n",
              "      <td>1</td>\n",
              "      <td>0</td>\n",
              "      <td>1</td>\n",
              "      <td>1</td>\n",
              "      <td>0</td>\n",
              "      <td>0</td>\n",
              "      <td>0</td>\n",
              "      <td>1</td>\n",
              "      <td>1</td>\n",
              "      <td>...</td>\n",
              "      <td>0</td>\n",
              "      <td>0</td>\n",
              "      <td>1</td>\n",
              "      <td>0</td>\n",
              "      <td>0</td>\n",
              "      <td>1</td>\n",
              "      <td>0</td>\n",
              "      <td>1</td>\n",
              "      <td>1</td>\n",
              "      <td>1</td>\n",
              "    </tr>\n",
              "    <tr>\n",
              "      <th>3</th>\n",
              "      <td>0</td>\n",
              "      <td>1</td>\n",
              "      <td>0</td>\n",
              "      <td>0</td>\n",
              "      <td>1</td>\n",
              "      <td>0</td>\n",
              "      <td>0</td>\n",
              "      <td>1</td>\n",
              "      <td>1</td>\n",
              "      <td>1</td>\n",
              "      <td>...</td>\n",
              "      <td>1</td>\n",
              "      <td>1</td>\n",
              "      <td>1</td>\n",
              "      <td>1</td>\n",
              "      <td>1</td>\n",
              "      <td>1</td>\n",
              "      <td>0</td>\n",
              "      <td>1</td>\n",
              "      <td>1</td>\n",
              "      <td>1</td>\n",
              "    </tr>\n",
              "    <tr>\n",
              "      <th>4</th>\n",
              "      <td>0</td>\n",
              "      <td>1</td>\n",
              "      <td>0</td>\n",
              "      <td>0</td>\n",
              "      <td>1</td>\n",
              "      <td>0</td>\n",
              "      <td>0</td>\n",
              "      <td>0</td>\n",
              "      <td>1</td>\n",
              "      <td>0</td>\n",
              "      <td>...</td>\n",
              "      <td>0</td>\n",
              "      <td>1</td>\n",
              "      <td>1</td>\n",
              "      <td>1</td>\n",
              "      <td>1</td>\n",
              "      <td>1</td>\n",
              "      <td>0</td>\n",
              "      <td>1</td>\n",
              "      <td>0</td>\n",
              "      <td>0</td>\n",
              "    </tr>\n",
              "  </tbody>\n",
              "</table>\n",
              "<p>5 rows × 45 columns</p>\n",
              "</div>"
            ],
            "text/plain": [
              "   \"24-Hour Check-in\"  \"Air Conditioning\"  \"Buzzer/Wireless Intercom\"  \\\n",
              "0                   0                   0                           0   \n",
              "1                   0                   1                           0   \n",
              "2                   0                   1                           0   \n",
              "3                   0                   1                           0   \n",
              "4                   0                   1                           0   \n",
              "\n",
              "   \"Cable TV\"  \"Carbon Monoxide Detector\"  \"Elevator in Building\"  \\\n",
              "0           0                           0                       0   \n",
              "1           0                           1                       0   \n",
              "2           1                           1                       0   \n",
              "3           0                           1                       0   \n",
              "4           0                           1                       0   \n",
              "\n",
              "   \"Family/Kid Friendly\"  \"Fire Extinguisher\"  \"First Aid Kit\"  \\\n",
              "0                      1                    1                0   \n",
              "1                      1                    1                0   \n",
              "2                      0                    0                1   \n",
              "3                      0                    1                1   \n",
              "4                      0                    0                1   \n",
              "\n",
              "   \"Free Parking on Premises\"   ...    Gym  Hangers  Heating  Internet  Iron  \\\n",
              "0                           1   ...      0        0        1         0     0   \n",
              "1                           0   ...      0        1        1         1     1   \n",
              "2                           1   ...      0        0        1         0     0   \n",
              "3                           1   ...      1        1        1         1     1   \n",
              "4                           0   ...      0        1        1         1     1   \n",
              "\n",
              "   Kitchen  Pool  Shampoo  TV  Washer  \n",
              "0        1     0        1   1       1  \n",
              "1        1     0        1   1       1  \n",
              "2        1     0        1   1       1  \n",
              "3        1     0        1   1       1  \n",
              "4        1     0        1   0       0  \n",
              "\n",
              "[5 rows x 45 columns]"
            ]
          },
          "metadata": {
            "tags": []
          },
          "execution_count": 35
        }
      ]
    },
    {
      "metadata": {
        "id": "y4XJOdKgoMMw",
        "colab_type": "code",
        "colab": {}
      },
      "cell_type": "code",
      "source": [
        "num_columns = ['id', 'price', 'accommodates',\n",
        "       'bathrooms', 'bedrooms', 'beds', 'square_feet',\n",
        "        'guests_included',   \n",
        "        'number_of_reviews',\n",
        "        'review_scores_rating',\n",
        "       'review_scores_accuracy', 'review_scores_cleanliness',\n",
        "       'review_scores_checkin', 'review_scores_communication',\n",
        "       'review_scores_location', 'review_scores_value', 'calculated_host_listings_count',\n",
        "       'reviews_per_month']"
      ],
      "execution_count": 0,
      "outputs": []
    },
    {
      "metadata": {
        "id": "fLcyb1rrln2P",
        "colab_type": "text"
      },
      "cell_type": "markdown",
      "source": [
        "#### Merge them back together"
      ]
    },
    {
      "metadata": {
        "id": "4r7A6dAWrLxt",
        "colab_type": "code",
        "colab": {}
      },
      "cell_type": "code",
      "source": [
        "train_num = train[num_columns]"
      ],
      "execution_count": 0,
      "outputs": []
    },
    {
      "metadata": {
        "id": "nedgFnzRlq5w",
        "colab_type": "code",
        "colab": {}
      },
      "cell_type": "code",
      "source": [
        " train_db = pd.concat([train_num, train_model, amenities], axis=1, join='inner')"
      ],
      "execution_count": 0,
      "outputs": []
    },
    {
      "metadata": {
        "id": "60_n7Ep2w8rE",
        "colab_type": "text"
      },
      "cell_type": "markdown",
      "source": [
        "#### Handle missing data"
      ]
    },
    {
      "metadata": {
        "id": "6la-vKbIxI22",
        "colab_type": "code",
        "colab": {
          "base_uri": "https://localhost:8080/",
          "height": 34
        },
        "outputId": "17a051f1-754f-4ddc-bf2e-e50558232be0"
      },
      "cell_type": "code",
      "source": [
        "train_db.shape"
      ],
      "execution_count": 39,
      "outputs": [
        {
          "output_type": "execute_result",
          "data": {
            "text/plain": [
              "(3519, 113)"
            ]
          },
          "metadata": {
            "tags": []
          },
          "execution_count": 39
        }
      ]
    },
    {
      "metadata": {
        "id": "lfEm9lqR2smA",
        "colab_type": "code",
        "colab": {
          "base_uri": "https://localhost:8080/",
          "height": 1071
        },
        "outputId": "ed47521f-c32d-406a-ea3b-bbdfb2e52a69"
      },
      "cell_type": "code",
      "source": [
        "train_db.dtypes"
      ],
      "execution_count": 40,
      "outputs": [
        {
          "output_type": "execute_result",
          "data": {
            "text/plain": [
              "id                                               object\n",
              "price                                           float64\n",
              "accommodates                                    float64\n",
              "bathrooms                                       float64\n",
              "bedrooms                                        float64\n",
              "beds                                            float64\n",
              "square_feet                                      object\n",
              "guests_included                                  object\n",
              "number_of_reviews                                object\n",
              "review_scores_rating                             object\n",
              "review_scores_accuracy                           object\n",
              "review_scores_cleanliness                        object\n",
              "review_scores_checkin                            object\n",
              "review_scores_communication                      object\n",
              "review_scores_location                           object\n",
              "review_scores_value                              object\n",
              "calculated_host_listings_count                   object\n",
              "reviews_per_month                                object\n",
              "neighbourhood_cleansed_Allston                    uint8\n",
              "neighbourhood_cleansed_Back Bay                   uint8\n",
              "neighbourhood_cleansed_Bay Village                uint8\n",
              "neighbourhood_cleansed_Beacon Hill                uint8\n",
              "neighbourhood_cleansed_Brighton                   uint8\n",
              "neighbourhood_cleansed_Charlestown                uint8\n",
              "neighbourhood_cleansed_Chinatown                  uint8\n",
              "neighbourhood_cleansed_Dorchester                 uint8\n",
              "neighbourhood_cleansed_Downtown                   uint8\n",
              "neighbourhood_cleansed_East Boston                uint8\n",
              "neighbourhood_cleansed_Fenway                     uint8\n",
              "neighbourhood_cleansed_Hyde Park                  uint8\n",
              "                                                 ...   \n",
              "\"Lock on Bedroom Door\"                            int64\n",
              "\"Other pet(s)\"                                    int64\n",
              "\"Paid Parking Off Premises\"                       int64\n",
              "\"Pets Allowed\"                                    int64\n",
              "\"Pets live on this property\"                      int64\n",
              "\"Safety Card\"                                     int64\n",
              "\"Smoke Detector\"                                  int64\n",
              "\"Smoking Allowed\"                                 int64\n",
              "\"Suitable for Events\"                             int64\n",
              "\"Washer / Dryer\"                                  int64\n",
              "\"Wheelchair Accessible\"                           int64\n",
              "\"Wireless Internet\"                               int64\n",
              "\"translation missing: en.hosting_amenity_49\"      int64\n",
              "\"translation missing: en.hosting_amenity_50\"      int64\n",
              "Breakfast                                         int64\n",
              "Cat(s)                                            int64\n",
              "Dog(s)                                            int64\n",
              "Doorman                                           int64\n",
              "Dryer                                             int64\n",
              "Essentials                                        int64\n",
              "Gym                                               int64\n",
              "Hangers                                           int64\n",
              "Heating                                           int64\n",
              "Internet                                          int64\n",
              "Iron                                              int64\n",
              "Kitchen                                           int64\n",
              "Pool                                              int64\n",
              "Shampoo                                           int64\n",
              "TV                                                int64\n",
              "Washer                                            int64\n",
              "Length: 113, dtype: object"
            ]
          },
          "metadata": {
            "tags": []
          },
          "execution_count": 40
        }
      ]
    },
    {
      "metadata": {
        "id": "v-ZizmdswaOe",
        "colab_type": "code",
        "colab": {
          "base_uri": "https://localhost:8080/",
          "height": 514
        },
        "outputId": "c8458a6c-3c28-4e59-9eb8-682e60ffabae"
      },
      "cell_type": "code",
      "source": [
        "# remove NAs, or handle differently\n",
        "\n",
        "nulls=train_db.isna().sum()\n",
        "nulls = nulls.to_frame().reset_index()\n",
        "nulls = nulls.sort_values(by=0,ascending=False)\n",
        "nulls.head(15)"
      ],
      "execution_count": 41,
      "outputs": [
        {
          "output_type": "execute_result",
          "data": {
            "text/html": [
              "<div>\n",
              "<style scoped>\n",
              "    .dataframe tbody tr th:only-of-type {\n",
              "        vertical-align: middle;\n",
              "    }\n",
              "\n",
              "    .dataframe tbody tr th {\n",
              "        vertical-align: top;\n",
              "    }\n",
              "\n",
              "    .dataframe thead th {\n",
              "        text-align: right;\n",
              "    }\n",
              "</style>\n",
              "<table border=\"1\" class=\"dataframe\">\n",
              "  <thead>\n",
              "    <tr style=\"text-align: right;\">\n",
              "      <th></th>\n",
              "      <th>index</th>\n",
              "      <th>0</th>\n",
              "    </tr>\n",
              "  </thead>\n",
              "  <tbody>\n",
              "    <tr>\n",
              "      <th>6</th>\n",
              "      <td>square_feet</td>\n",
              "      <td>3465</td>\n",
              "    </tr>\n",
              "    <tr>\n",
              "      <th>10</th>\n",
              "      <td>review_scores_accuracy</td>\n",
              "      <td>798</td>\n",
              "    </tr>\n",
              "    <tr>\n",
              "      <th>14</th>\n",
              "      <td>review_scores_location</td>\n",
              "      <td>797</td>\n",
              "    </tr>\n",
              "    <tr>\n",
              "      <th>15</th>\n",
              "      <td>review_scores_value</td>\n",
              "      <td>796</td>\n",
              "    </tr>\n",
              "    <tr>\n",
              "      <th>12</th>\n",
              "      <td>review_scores_checkin</td>\n",
              "      <td>795</td>\n",
              "    </tr>\n",
              "    <tr>\n",
              "      <th>13</th>\n",
              "      <td>review_scores_communication</td>\n",
              "      <td>793</td>\n",
              "    </tr>\n",
              "    <tr>\n",
              "      <th>11</th>\n",
              "      <td>review_scores_cleanliness</td>\n",
              "      <td>793</td>\n",
              "    </tr>\n",
              "    <tr>\n",
              "      <th>9</th>\n",
              "      <td>review_scores_rating</td>\n",
              "      <td>788</td>\n",
              "    </tr>\n",
              "    <tr>\n",
              "      <th>17</th>\n",
              "      <td>reviews_per_month</td>\n",
              "      <td>733</td>\n",
              "    </tr>\n",
              "    <tr>\n",
              "      <th>3</th>\n",
              "      <td>bathrooms</td>\n",
              "      <td>14</td>\n",
              "    </tr>\n",
              "    <tr>\n",
              "      <th>4</th>\n",
              "      <td>bedrooms</td>\n",
              "      <td>10</td>\n",
              "    </tr>\n",
              "    <tr>\n",
              "      <th>5</th>\n",
              "      <td>beds</td>\n",
              "      <td>9</td>\n",
              "    </tr>\n",
              "    <tr>\n",
              "      <th>80</th>\n",
              "      <td>\"Hot Tub\"</td>\n",
              "      <td>0</td>\n",
              "    </tr>\n",
              "    <tr>\n",
              "      <th>81</th>\n",
              "      <td>\"Indoor Fireplace\"</td>\n",
              "      <td>0</td>\n",
              "    </tr>\n",
              "    <tr>\n",
              "      <th>79</th>\n",
              "      <td>\"Hair Dryer\"</td>\n",
              "      <td>0</td>\n",
              "    </tr>\n",
              "  </tbody>\n",
              "</table>\n",
              "</div>"
            ],
            "text/plain": [
              "                          index     0\n",
              "6                   square_feet  3465\n",
              "10       review_scores_accuracy   798\n",
              "14       review_scores_location   797\n",
              "15          review_scores_value   796\n",
              "12        review_scores_checkin   795\n",
              "13  review_scores_communication   793\n",
              "11    review_scores_cleanliness   793\n",
              "9          review_scores_rating   788\n",
              "17            reviews_per_month   733\n",
              "3                     bathrooms    14\n",
              "4                      bedrooms    10\n",
              "5                          beds     9\n",
              "80                    \"Hot Tub\"     0\n",
              "81           \"Indoor Fireplace\"     0\n",
              "79                 \"Hair Dryer\"     0"
            ]
          },
          "metadata": {
            "tags": []
          },
          "execution_count": 41
        }
      ]
    },
    {
      "metadata": {
        "id": "HrsNu_azzbG1",
        "colab_type": "code",
        "colab": {}
      },
      "cell_type": "code",
      "source": [
        "# Based on the counts above, I need to remove the square foot colum because almost all of the data is missing. I also think I should remove the reviews columns because almost records are missing data..\n",
        "# For bathrooms and bedrooms, I can use the average from that columns. It's only a handful of missing records."
      ],
      "execution_count": 0,
      "outputs": []
    },
    {
      "metadata": {
        "id": "NwKIV2vA1wZZ",
        "colab_type": "code",
        "colab": {}
      },
      "cell_type": "code",
      "source": [
        "train_db = train_db.drop(['square_feet','review_scores_rating',\n",
        "       'review_scores_accuracy', 'review_scores_cleanliness',\n",
        "       'review_scores_checkin', 'review_scores_communication',\n",
        "       'review_scores_location', 'review_scores_value',\n",
        "       'reviews_per_month'],axis = 1)"
      ],
      "execution_count": 0,
      "outputs": []
    },
    {
      "metadata": {
        "id": "Fie1KcwQ2eTP",
        "colab_type": "code",
        "colab": {}
      },
      "cell_type": "code",
      "source": [
        "train_db=train_db.fillna(train_db.mean())"
      ],
      "execution_count": 0,
      "outputs": []
    },
    {
      "metadata": {
        "id": "2LhhMMn_nadg",
        "colab_type": "code",
        "colab": {
          "base_uri": "https://localhost:8080/",
          "height": 253
        },
        "outputId": "78954a84-52ac-49c8-9310-d4f8a2c56e14"
      },
      "cell_type": "code",
      "source": [
        "train_db.head()"
      ],
      "execution_count": 45,
      "outputs": [
        {
          "output_type": "execute_result",
          "data": {
            "text/html": [
              "<div>\n",
              "<style scoped>\n",
              "    .dataframe tbody tr th:only-of-type {\n",
              "        vertical-align: middle;\n",
              "    }\n",
              "\n",
              "    .dataframe tbody tr th {\n",
              "        vertical-align: top;\n",
              "    }\n",
              "\n",
              "    .dataframe thead th {\n",
              "        text-align: right;\n",
              "    }\n",
              "</style>\n",
              "<table border=\"1\" class=\"dataframe\">\n",
              "  <thead>\n",
              "    <tr style=\"text-align: right;\">\n",
              "      <th></th>\n",
              "      <th>id</th>\n",
              "      <th>price</th>\n",
              "      <th>accommodates</th>\n",
              "      <th>bathrooms</th>\n",
              "      <th>bedrooms</th>\n",
              "      <th>beds</th>\n",
              "      <th>guests_included</th>\n",
              "      <th>number_of_reviews</th>\n",
              "      <th>calculated_host_listings_count</th>\n",
              "      <th>neighbourhood_cleansed_Allston</th>\n",
              "      <th>...</th>\n",
              "      <th>Gym</th>\n",
              "      <th>Hangers</th>\n",
              "      <th>Heating</th>\n",
              "      <th>Internet</th>\n",
              "      <th>Iron</th>\n",
              "      <th>Kitchen</th>\n",
              "      <th>Pool</th>\n",
              "      <th>Shampoo</th>\n",
              "      <th>TV</th>\n",
              "      <th>Washer</th>\n",
              "    </tr>\n",
              "  </thead>\n",
              "  <tbody>\n",
              "    <tr>\n",
              "      <th>0</th>\n",
              "      <td>12147973</td>\n",
              "      <td>250.0</td>\n",
              "      <td>4.0</td>\n",
              "      <td>1.5</td>\n",
              "      <td>2.0</td>\n",
              "      <td>3.0</td>\n",
              "      <td>1</td>\n",
              "      <td>0</td>\n",
              "      <td>1</td>\n",
              "      <td>0</td>\n",
              "      <td>...</td>\n",
              "      <td>0</td>\n",
              "      <td>0</td>\n",
              "      <td>1</td>\n",
              "      <td>0</td>\n",
              "      <td>0</td>\n",
              "      <td>1</td>\n",
              "      <td>0</td>\n",
              "      <td>1</td>\n",
              "      <td>1</td>\n",
              "      <td>1</td>\n",
              "    </tr>\n",
              "    <tr>\n",
              "      <th>1</th>\n",
              "      <td>3075044</td>\n",
              "      <td>65.0</td>\n",
              "      <td>2.0</td>\n",
              "      <td>1.0</td>\n",
              "      <td>1.0</td>\n",
              "      <td>1.0</td>\n",
              "      <td>0</td>\n",
              "      <td>36</td>\n",
              "      <td>1</td>\n",
              "      <td>0</td>\n",
              "      <td>...</td>\n",
              "      <td>0</td>\n",
              "      <td>1</td>\n",
              "      <td>1</td>\n",
              "      <td>1</td>\n",
              "      <td>1</td>\n",
              "      <td>1</td>\n",
              "      <td>0</td>\n",
              "      <td>1</td>\n",
              "      <td>1</td>\n",
              "      <td>1</td>\n",
              "    </tr>\n",
              "    <tr>\n",
              "      <th>2</th>\n",
              "      <td>6976</td>\n",
              "      <td>65.0</td>\n",
              "      <td>2.0</td>\n",
              "      <td>1.0</td>\n",
              "      <td>1.0</td>\n",
              "      <td>1.0</td>\n",
              "      <td>1</td>\n",
              "      <td>41</td>\n",
              "      <td>1</td>\n",
              "      <td>0</td>\n",
              "      <td>...</td>\n",
              "      <td>0</td>\n",
              "      <td>0</td>\n",
              "      <td>1</td>\n",
              "      <td>0</td>\n",
              "      <td>0</td>\n",
              "      <td>1</td>\n",
              "      <td>0</td>\n",
              "      <td>1</td>\n",
              "      <td>1</td>\n",
              "      <td>1</td>\n",
              "    </tr>\n",
              "    <tr>\n",
              "      <th>3</th>\n",
              "      <td>1436513</td>\n",
              "      <td>75.0</td>\n",
              "      <td>4.0</td>\n",
              "      <td>1.0</td>\n",
              "      <td>1.0</td>\n",
              "      <td>2.0</td>\n",
              "      <td>2</td>\n",
              "      <td>1</td>\n",
              "      <td>1</td>\n",
              "      <td>0</td>\n",
              "      <td>...</td>\n",
              "      <td>1</td>\n",
              "      <td>1</td>\n",
              "      <td>1</td>\n",
              "      <td>1</td>\n",
              "      <td>1</td>\n",
              "      <td>1</td>\n",
              "      <td>0</td>\n",
              "      <td>1</td>\n",
              "      <td>1</td>\n",
              "      <td>1</td>\n",
              "    </tr>\n",
              "    <tr>\n",
              "      <th>4</th>\n",
              "      <td>7651065</td>\n",
              "      <td>79.0</td>\n",
              "      <td>2.0</td>\n",
              "      <td>1.5</td>\n",
              "      <td>1.0</td>\n",
              "      <td>2.0</td>\n",
              "      <td>1</td>\n",
              "      <td>29</td>\n",
              "      <td>1</td>\n",
              "      <td>0</td>\n",
              "      <td>...</td>\n",
              "      <td>0</td>\n",
              "      <td>1</td>\n",
              "      <td>1</td>\n",
              "      <td>1</td>\n",
              "      <td>1</td>\n",
              "      <td>1</td>\n",
              "      <td>0</td>\n",
              "      <td>1</td>\n",
              "      <td>0</td>\n",
              "      <td>0</td>\n",
              "    </tr>\n",
              "  </tbody>\n",
              "</table>\n",
              "<p>5 rows × 104 columns</p>\n",
              "</div>"
            ],
            "text/plain": [
              "         id  price  accommodates  bathrooms  bedrooms  beds guests_included  \\\n",
              "0  12147973  250.0           4.0        1.5       2.0   3.0               1   \n",
              "1   3075044   65.0           2.0        1.0       1.0   1.0               0   \n",
              "2      6976   65.0           2.0        1.0       1.0   1.0               1   \n",
              "3   1436513   75.0           4.0        1.0       1.0   2.0               2   \n",
              "4   7651065   79.0           2.0        1.5       1.0   2.0               1   \n",
              "\n",
              "  number_of_reviews calculated_host_listings_count  \\\n",
              "0                 0                              1   \n",
              "1                36                              1   \n",
              "2                41                              1   \n",
              "3                 1                              1   \n",
              "4                29                              1   \n",
              "\n",
              "   neighbourhood_cleansed_Allston   ...    Gym  Hangers  Heating  Internet  \\\n",
              "0                               0   ...      0        0        1         0   \n",
              "1                               0   ...      0        1        1         1   \n",
              "2                               0   ...      0        0        1         0   \n",
              "3                               0   ...      1        1        1         1   \n",
              "4                               0   ...      0        1        1         1   \n",
              "\n",
              "   Iron  Kitchen  Pool  Shampoo  TV  Washer  \n",
              "0     0        1     0        1   1       1  \n",
              "1     1        1     0        1   1       1  \n",
              "2     0        1     0        1   1       1  \n",
              "3     1        1     0        1   1       1  \n",
              "4     1        1     0        1   0       0  \n",
              "\n",
              "[5 rows x 104 columns]"
            ]
          },
          "metadata": {
            "tags": []
          },
          "execution_count": 45
        }
      ]
    },
    {
      "metadata": {
        "id": "kLrfmk-iwxlH",
        "colab_type": "code",
        "colab": {
          "base_uri": "https://localhost:8080/",
          "height": 1071
        },
        "outputId": "56c6b8da-ba9a-4c0a-e31e-2b655545f926"
      },
      "cell_type": "code",
      "source": [
        "train_db.isna().sum()"
      ],
      "execution_count": 46,
      "outputs": [
        {
          "output_type": "execute_result",
          "data": {
            "text/plain": [
              "id                                              0\n",
              "price                                           0\n",
              "accommodates                                    0\n",
              "bathrooms                                       0\n",
              "bedrooms                                        0\n",
              "beds                                            0\n",
              "guests_included                                 0\n",
              "number_of_reviews                               0\n",
              "calculated_host_listings_count                  0\n",
              "neighbourhood_cleansed_Allston                  0\n",
              "neighbourhood_cleansed_Back Bay                 0\n",
              "neighbourhood_cleansed_Bay Village              0\n",
              "neighbourhood_cleansed_Beacon Hill              0\n",
              "neighbourhood_cleansed_Brighton                 0\n",
              "neighbourhood_cleansed_Charlestown              0\n",
              "neighbourhood_cleansed_Chinatown                0\n",
              "neighbourhood_cleansed_Dorchester               0\n",
              "neighbourhood_cleansed_Downtown                 0\n",
              "neighbourhood_cleansed_East Boston              0\n",
              "neighbourhood_cleansed_Fenway                   0\n",
              "neighbourhood_cleansed_Hyde Park                0\n",
              "neighbourhood_cleansed_Jamaica Plain            0\n",
              "neighbourhood_cleansed_Leather District         0\n",
              "neighbourhood_cleansed_Longwood Medical Area    0\n",
              "neighbourhood_cleansed_Mattapan                 0\n",
              "neighbourhood_cleansed_Mission Hill             0\n",
              "neighbourhood_cleansed_North End                0\n",
              "neighbourhood_cleansed_Roslindale               0\n",
              "neighbourhood_cleansed_Roxbury                  0\n",
              "neighbourhood_cleansed_South Boston             0\n",
              "                                               ..\n",
              "\"Lock on Bedroom Door\"                          0\n",
              "\"Other pet(s)\"                                  0\n",
              "\"Paid Parking Off Premises\"                     0\n",
              "\"Pets Allowed\"                                  0\n",
              "\"Pets live on this property\"                    0\n",
              "\"Safety Card\"                                   0\n",
              "\"Smoke Detector\"                                0\n",
              "\"Smoking Allowed\"                               0\n",
              "\"Suitable for Events\"                           0\n",
              "\"Washer / Dryer\"                                0\n",
              "\"Wheelchair Accessible\"                         0\n",
              "\"Wireless Internet\"                             0\n",
              "\"translation missing: en.hosting_amenity_49\"    0\n",
              "\"translation missing: en.hosting_amenity_50\"    0\n",
              "Breakfast                                       0\n",
              "Cat(s)                                          0\n",
              "Dog(s)                                          0\n",
              "Doorman                                         0\n",
              "Dryer                                           0\n",
              "Essentials                                      0\n",
              "Gym                                             0\n",
              "Hangers                                         0\n",
              "Heating                                         0\n",
              "Internet                                        0\n",
              "Iron                                            0\n",
              "Kitchen                                         0\n",
              "Pool                                            0\n",
              "Shampoo                                         0\n",
              "TV                                              0\n",
              "Washer                                          0\n",
              "Length: 104, dtype: int64"
            ]
          },
          "metadata": {
            "tags": []
          },
          "execution_count": 46
        }
      ]
    },
    {
      "metadata": {
        "id": "_jeal7Jyt7U6",
        "colab_type": "code",
        "colab": {}
      },
      "cell_type": "code",
      "source": [
        "y = train_db['price']\n",
        "train_db = train_db.drop(['price','id'],axis = 1)"
      ],
      "execution_count": 0,
      "outputs": []
    },
    {
      "metadata": {
        "id": "aUn3S-NctYi5",
        "colab_type": "code",
        "colab": {}
      },
      "cell_type": "code",
      "source": [
        "X_train, X_test, y_train, y_test = train_test_split(train_db, y, test_size=0.2)"
      ],
      "execution_count": 0,
      "outputs": []
    },
    {
      "metadata": {
        "id": "wwqCKM5LrGbU",
        "colab_type": "code",
        "colab": {}
      },
      "cell_type": "code",
      "source": [
        "linear = LinearRegression(normalize=True)\n",
        "lasso = Lasso(normalize=True)\n",
        "ridge = Ridge(normalize=True)"
      ],
      "execution_count": 0,
      "outputs": []
    },
    {
      "metadata": {
        "id": "2zYJcug_9h6Z",
        "colab_type": "code",
        "colab": {}
      },
      "cell_type": "code",
      "source": [
        "def run_model(model, X, y, state = 25):\n",
        "    X_train, X_test, y_train, y_test = train_test_split(X, y, random_state = state)\n",
        "    predictions = model.fit(X_train, y_train).predict(X_test)\n",
        "    score = model.score(X_test, y_test)\n",
        "    rmse = np.sqrt(metrics.mean_squared_error(y_test, predictions))\n",
        "    return score, rmse\n",
        " "
      ],
      "execution_count": 0,
      "outputs": []
    },
    {
      "metadata": {
        "id": "aERtKov__0jV",
        "colab_type": "code",
        "colab": {}
      },
      "cell_type": "code",
      "source": [
        "models = [linear, lasso, ridge]\n",
        "\n",
        "score = []\n",
        "rmse = []\n",
        "\n",
        "for model in models:\n",
        "  model_score, model_rmse = run_model(model,train_db,y, state = 25)\n",
        "  score.append(model_score)\n",
        "  rmse.append(model_rmse)"
      ],
      "execution_count": 0,
      "outputs": []
    },
    {
      "metadata": {
        "id": "KpddI6d-X74S",
        "colab_type": "code",
        "colab": {
          "base_uri": "https://localhost:8080/",
          "height": 34
        },
        "outputId": "4c4df397-3632-4d83-c64a-ed9191f43617"
      },
      "cell_type": "code",
      "source": [
        "score"
      ],
      "execution_count": 95,
      "outputs": [
        {
          "output_type": "execute_result",
          "data": {
            "text/plain": [
              "[-1.3007560671045886e+25, 0.09522889254345357, 0.6225993785183993]"
            ]
          },
          "metadata": {
            "tags": []
          },
          "execution_count": 95
        }
      ]
    },
    {
      "metadata": {
        "id": "Myja213MYxU6",
        "colab_type": "code",
        "colab": {
          "base_uri": "https://localhost:8080/",
          "height": 348
        },
        "outputId": "937b0b75-b63e-4e00-b59a-4eee2417bd7c"
      },
      "cell_type": "code",
      "source": [
        "model_eval = pd.DataFrame({\"range\": list(\"LLR\"),\"score\":score, \"rmse\":rmse})\n",
        "fig = plt.figure()\n",
        "ax = model_eval['rmse'].plot(kind=\"bar\", alpha=0.7)\n",
        "\n",
        "ax2 = ax.twinx()\n",
        "ax2.plot(ax.get_xticks(),model_eval['score'],marker='o', c='navy', linewidth=4)\n",
        "\n",
        "ax.set_xticklabels(model_eval['range'])\n",
        "ax.set_ylim(0,100)\n",
        "ax2.set_ylim(0,1)\n",
        "ax2.grid(False)\n",
        "plt.show()"
      ],
      "execution_count": 99,
      "outputs": [
        {
          "output_type": "display_data",
          "data": {
            "image/png": "[encoded data removed]",
            "text/plain": [
              "<matplotlib.figure.Figure at 0x7f8583a5a0f0>"
            ]
          },
          "metadata": {
            "tags": []
          }
        }
      ]
    },
    {
      "metadata": {
        "id": "Ee2-GPwQ4wV7",
        "colab_type": "text"
      },
      "cell_type": "markdown",
      "source": [
        "### The Ridge model is the best because of the lower error and higher score. Ridge regression handles sparse data well.\n",
        "### Next step would be to understand which variables are most impacting the price.\n"
      ]
    },
    {
      "metadata": {
        "id": "cRL6cM5L_aLF",
        "colab_type": "code",
        "colab": {
          "base_uri": "https://localhost:8080/",
          "height": 1969
        },
        "outputId": "22a48df6-39e7-402a-996a-df6971f327b8"
      },
      "cell_type": "code",
      "source": [
        "ridge_coef = pd.DataFrame(list(zip(train_db.columns,ridge.coef_)), columns = ['feature','coefficient'])\n",
        "\n",
        "ridge_coef.sort_values(by='coefficient', ascending=False)"
      ],
      "execution_count": 52,
      "outputs": [
        {
          "output_type": "execute_result",
          "data": {
            "text/html": [
              "<div>\n",
              "<style scoped>\n",
              "    .dataframe tbody tr th:only-of-type {\n",
              "        vertical-align: middle;\n",
              "    }\n",
              "\n",
              "    .dataframe tbody tr th {\n",
              "        vertical-align: top;\n",
              "    }\n",
              "\n",
              "    .dataframe thead th {\n",
              "        text-align: right;\n",
              "    }\n",
              "</style>\n",
              "<table border=\"1\" class=\"dataframe\">\n",
              "  <thead>\n",
              "    <tr style=\"text-align: right;\">\n",
              "      <th></th>\n",
              "      <th>feature</th>\n",
              "      <th>coefficient</th>\n",
              "    </tr>\n",
              "  </thead>\n",
              "  <tbody>\n",
              "    <tr>\n",
              "      <th>42</th>\n",
              "      <td>property_type_Other</td>\n",
              "      <td>51.616352</td>\n",
              "    </tr>\n",
              "    <tr>\n",
              "      <th>9</th>\n",
              "      <td>neighbourhood_cleansed_Bay Village</td>\n",
              "      <td>45.761702</td>\n",
              "    </tr>\n",
              "    <tr>\n",
              "      <th>56</th>\n",
              "      <td>cancellation_policy_super_strict_30</td>\n",
              "      <td>40.610672</td>\n",
              "    </tr>\n",
              "    <tr>\n",
              "      <th>34</th>\n",
              "      <td>property_type_Boat</td>\n",
              "      <td>32.293163</td>\n",
              "    </tr>\n",
              "    <tr>\n",
              "      <th>20</th>\n",
              "      <td>neighbourhood_cleansed_Leather District</td>\n",
              "      <td>28.242515</td>\n",
              "    </tr>\n",
              "    <tr>\n",
              "      <th>8</th>\n",
              "      <td>neighbourhood_cleansed_Back Bay</td>\n",
              "      <td>23.808107</td>\n",
              "    </tr>\n",
              "    <tr>\n",
              "      <th>45</th>\n",
              "      <td>room_type_Entire home/apt</td>\n",
              "      <td>19.955955</td>\n",
              "    </tr>\n",
              "    <tr>\n",
              "      <th>15</th>\n",
              "      <td>neighbourhood_cleansed_Downtown</td>\n",
              "      <td>18.885354</td>\n",
              "    </tr>\n",
              "    <tr>\n",
              "      <th>28</th>\n",
              "      <td>neighbourhood_cleansed_South Boston Waterfront</td>\n",
              "      <td>18.754360</td>\n",
              "    </tr>\n",
              "    <tr>\n",
              "      <th>10</th>\n",
              "      <td>neighbourhood_cleansed_Beacon Hill</td>\n",
              "      <td>17.107388</td>\n",
              "    </tr>\n",
              "    <tr>\n",
              "      <th>44</th>\n",
              "      <td>property_type_Villa</td>\n",
              "      <td>14.787378</td>\n",
              "    </tr>\n",
              "    <tr>\n",
              "      <th>13</th>\n",
              "      <td>neighbourhood_cleansed_Chinatown</td>\n",
              "      <td>14.140782</td>\n",
              "    </tr>\n",
              "    <tr>\n",
              "      <th>2</th>\n",
              "      <td>bedrooms</td>\n",
              "      <td>13.430897</td>\n",
              "    </tr>\n",
              "    <tr>\n",
              "      <th>89</th>\n",
              "      <td>Doorman</td>\n",
              "      <td>12.656508</td>\n",
              "    </tr>\n",
              "    <tr>\n",
              "      <th>70</th>\n",
              "      <td>\"Indoor Fireplace\"</td>\n",
              "      <td>10.967011</td>\n",
              "    </tr>\n",
              "    <tr>\n",
              "      <th>29</th>\n",
              "      <td>neighbourhood_cleansed_South End</td>\n",
              "      <td>10.782129</td>\n",
              "    </tr>\n",
              "    <tr>\n",
              "      <th>62</th>\n",
              "      <td>\"Elevator in Building\"</td>\n",
              "      <td>10.487755</td>\n",
              "    </tr>\n",
              "    <tr>\n",
              "      <th>100</th>\n",
              "      <td>TV</td>\n",
              "      <td>9.776798</td>\n",
              "    </tr>\n",
              "    <tr>\n",
              "      <th>58</th>\n",
              "      <td>\"Air Conditioning\"</td>\n",
              "      <td>9.711010</td>\n",
              "    </tr>\n",
              "    <tr>\n",
              "      <th>12</th>\n",
              "      <td>neighbourhood_cleansed_Charlestown</td>\n",
              "      <td>9.419911</td>\n",
              "    </tr>\n",
              "    <tr>\n",
              "      <th>82</th>\n",
              "      <td>\"Wheelchair Accessible\"</td>\n",
              "      <td>8.911499</td>\n",
              "    </tr>\n",
              "    <tr>\n",
              "      <th>60</th>\n",
              "      <td>\"Cable TV\"</td>\n",
              "      <td>8.865336</td>\n",
              "    </tr>\n",
              "    <tr>\n",
              "      <th>1</th>\n",
              "      <td>bathrooms</td>\n",
              "      <td>7.814594</td>\n",
              "    </tr>\n",
              "    <tr>\n",
              "      <th>52</th>\n",
              "      <td>bed_type_Real Bed</td>\n",
              "      <td>7.640127</td>\n",
              "    </tr>\n",
              "    <tr>\n",
              "      <th>41</th>\n",
              "      <td>property_type_Loft</td>\n",
              "      <td>7.250801</td>\n",
              "    </tr>\n",
              "    <tr>\n",
              "      <th>3</th>\n",
              "      <td>beds</td>\n",
              "      <td>7.197477</td>\n",
              "    </tr>\n",
              "    <tr>\n",
              "      <th>17</th>\n",
              "      <td>neighbourhood_cleansed_Fenway</td>\n",
              "      <td>5.640958</td>\n",
              "    </tr>\n",
              "    <tr>\n",
              "      <th>59</th>\n",
              "      <td>\"Buzzer/Wireless Intercom\"</td>\n",
              "      <td>5.586946</td>\n",
              "    </tr>\n",
              "    <tr>\n",
              "      <th>0</th>\n",
              "      <td>accommodates</td>\n",
              "      <td>5.425160</td>\n",
              "    </tr>\n",
              "    <tr>\n",
              "      <th>63</th>\n",
              "      <td>\"Family/Kid Friendly\"</td>\n",
              "      <td>5.358510</td>\n",
              "    </tr>\n",
              "    <tr>\n",
              "      <th>...</th>\n",
              "      <td>...</td>\n",
              "      <td>...</td>\n",
              "    </tr>\n",
              "    <tr>\n",
              "      <th>67</th>\n",
              "      <td>\"Free Parking on Street\"</td>\n",
              "      <td>-4.825927</td>\n",
              "    </tr>\n",
              "    <tr>\n",
              "      <th>87</th>\n",
              "      <td>Cat(s)</td>\n",
              "      <td>-4.923575</td>\n",
              "    </tr>\n",
              "    <tr>\n",
              "      <th>40</th>\n",
              "      <td>property_type_House</td>\n",
              "      <td>-5.231237</td>\n",
              "    </tr>\n",
              "    <tr>\n",
              "      <th>48</th>\n",
              "      <td>bed_type_Airbed</td>\n",
              "      <td>-5.515318</td>\n",
              "    </tr>\n",
              "    <tr>\n",
              "      <th>98</th>\n",
              "      <td>Pool</td>\n",
              "      <td>-6.347597</td>\n",
              "    </tr>\n",
              "    <tr>\n",
              "      <th>50</th>\n",
              "      <td>bed_type_Futon</td>\n",
              "      <td>-7.377583</td>\n",
              "    </tr>\n",
              "    <tr>\n",
              "      <th>49</th>\n",
              "      <td>bed_type_Couch</td>\n",
              "      <td>-7.967620</td>\n",
              "    </tr>\n",
              "    <tr>\n",
              "      <th>72</th>\n",
              "      <td>\"Lock on Bedroom Door\"</td>\n",
              "      <td>-8.034573</td>\n",
              "    </tr>\n",
              "    <tr>\n",
              "      <th>66</th>\n",
              "      <td>\"Free Parking on Premises\"</td>\n",
              "      <td>-8.788245</td>\n",
              "    </tr>\n",
              "    <tr>\n",
              "      <th>21</th>\n",
              "      <td>neighbourhood_cleansed_Longwood Medical Area</td>\n",
              "      <td>-8.944347</td>\n",
              "    </tr>\n",
              "    <tr>\n",
              "      <th>19</th>\n",
              "      <td>neighbourhood_cleansed_Jamaica Plain</td>\n",
              "      <td>-9.583819</td>\n",
              "    </tr>\n",
              "    <tr>\n",
              "      <th>51</th>\n",
              "      <td>bed_type_Pull-out Sofa</td>\n",
              "      <td>-9.630148</td>\n",
              "    </tr>\n",
              "    <tr>\n",
              "      <th>79</th>\n",
              "      <td>\"Smoking Allowed\"</td>\n",
              "      <td>-10.219116</td>\n",
              "    </tr>\n",
              "    <tr>\n",
              "      <th>26</th>\n",
              "      <td>neighbourhood_cleansed_Roxbury</td>\n",
              "      <td>-10.329459</td>\n",
              "    </tr>\n",
              "    <tr>\n",
              "      <th>73</th>\n",
              "      <td>\"Other pet(s)\"</td>\n",
              "      <td>-13.036483</td>\n",
              "    </tr>\n",
              "    <tr>\n",
              "      <th>16</th>\n",
              "      <td>neighbourhood_cleansed_East Boston</td>\n",
              "      <td>-13.271533</td>\n",
              "    </tr>\n",
              "    <tr>\n",
              "      <th>7</th>\n",
              "      <td>neighbourhood_cleansed_Allston</td>\n",
              "      <td>-15.379724</td>\n",
              "    </tr>\n",
              "    <tr>\n",
              "      <th>11</th>\n",
              "      <td>neighbourhood_cleansed_Brighton</td>\n",
              "      <td>-16.101263</td>\n",
              "    </tr>\n",
              "    <tr>\n",
              "      <th>38</th>\n",
              "      <td>property_type_Entire Floor</td>\n",
              "      <td>-16.397340</td>\n",
              "    </tr>\n",
              "    <tr>\n",
              "      <th>47</th>\n",
              "      <td>room_type_Shared room</td>\n",
              "      <td>-17.856390</td>\n",
              "    </tr>\n",
              "    <tr>\n",
              "      <th>22</th>\n",
              "      <td>neighbourhood_cleansed_Mattapan</td>\n",
              "      <td>-17.963995</td>\n",
              "    </tr>\n",
              "    <tr>\n",
              "      <th>31</th>\n",
              "      <td>neighbourhood_cleansed_West Roxbury</td>\n",
              "      <td>-18.476735</td>\n",
              "    </tr>\n",
              "    <tr>\n",
              "      <th>23</th>\n",
              "      <td>neighbourhood_cleansed_Mission Hill</td>\n",
              "      <td>-18.505319</td>\n",
              "    </tr>\n",
              "    <tr>\n",
              "      <th>46</th>\n",
              "      <td>room_type_Private room</td>\n",
              "      <td>-18.672507</td>\n",
              "    </tr>\n",
              "    <tr>\n",
              "      <th>18</th>\n",
              "      <td>neighbourhood_cleansed_Hyde Park</td>\n",
              "      <td>-19.077075</td>\n",
              "    </tr>\n",
              "    <tr>\n",
              "      <th>25</th>\n",
              "      <td>neighbourhood_cleansed_Roslindale</td>\n",
              "      <td>-19.350376</td>\n",
              "    </tr>\n",
              "    <tr>\n",
              "      <th>14</th>\n",
              "      <td>neighbourhood_cleansed_Dorchester</td>\n",
              "      <td>-19.607984</td>\n",
              "    </tr>\n",
              "    <tr>\n",
              "      <th>81</th>\n",
              "      <td>\"Washer / Dryer\"</td>\n",
              "      <td>-23.164662</td>\n",
              "    </tr>\n",
              "    <tr>\n",
              "      <th>37</th>\n",
              "      <td>property_type_Dorm</td>\n",
              "      <td>-23.822907</td>\n",
              "    </tr>\n",
              "    <tr>\n",
              "      <th>35</th>\n",
              "      <td>property_type_Camper/RV</td>\n",
              "      <td>-52.503885</td>\n",
              "    </tr>\n",
              "  </tbody>\n",
              "</table>\n",
              "<p>102 rows × 2 columns</p>\n",
              "</div>"
            ],
            "text/plain": [
              "                                            feature  coefficient\n",
              "42                              property_type_Other    51.616352\n",
              "9                neighbourhood_cleansed_Bay Village    45.761702\n",
              "56              cancellation_policy_super_strict_30    40.610672\n",
              "34                               property_type_Boat    32.293163\n",
              "20          neighbourhood_cleansed_Leather District    28.242515\n",
              "8                   neighbourhood_cleansed_Back Bay    23.808107\n",
              "45                        room_type_Entire home/apt    19.955955\n",
              "15                  neighbourhood_cleansed_Downtown    18.885354\n",
              "28   neighbourhood_cleansed_South Boston Waterfront    18.754360\n",
              "10               neighbourhood_cleansed_Beacon Hill    17.107388\n",
              "44                              property_type_Villa    14.787378\n",
              "13                 neighbourhood_cleansed_Chinatown    14.140782\n",
              "2                                          bedrooms    13.430897\n",
              "89                                          Doorman    12.656508\n",
              "70                               \"Indoor Fireplace\"    10.967011\n",
              "29                 neighbourhood_cleansed_South End    10.782129\n",
              "62                           \"Elevator in Building\"    10.487755\n",
              "100                                              TV     9.776798\n",
              "58                               \"Air Conditioning\"     9.711010\n",
              "12               neighbourhood_cleansed_Charlestown     9.419911\n",
              "82                          \"Wheelchair Accessible\"     8.911499\n",
              "60                                       \"Cable TV\"     8.865336\n",
              "1                                         bathrooms     7.814594\n",
              "52                                bed_type_Real Bed     7.640127\n",
              "41                               property_type_Loft     7.250801\n",
              "3                                              beds     7.197477\n",
              "17                    neighbourhood_cleansed_Fenway     5.640958\n",
              "59                       \"Buzzer/Wireless Intercom\"     5.586946\n",
              "0                                      accommodates     5.425160\n",
              "63                            \"Family/Kid Friendly\"     5.358510\n",
              "..                                              ...          ...\n",
              "67                         \"Free Parking on Street\"    -4.825927\n",
              "87                                           Cat(s)    -4.923575\n",
              "40                              property_type_House    -5.231237\n",
              "48                                  bed_type_Airbed    -5.515318\n",
              "98                                             Pool    -6.347597\n",
              "50                                   bed_type_Futon    -7.377583\n",
              "49                                   bed_type_Couch    -7.967620\n",
              "72                           \"Lock on Bedroom Door\"    -8.034573\n",
              "66                       \"Free Parking on Premises\"    -8.788245\n",
              "21     neighbourhood_cleansed_Longwood Medical Area    -8.944347\n",
              "19             neighbourhood_cleansed_Jamaica Plain    -9.583819\n",
              "51                           bed_type_Pull-out Sofa    -9.630148\n",
              "79                                \"Smoking Allowed\"   -10.219116\n",
              "26                   neighbourhood_cleansed_Roxbury   -10.329459\n",
              "73                                   \"Other pet(s)\"   -13.036483\n",
              "16               neighbourhood_cleansed_East Boston   -13.271533\n",
              "7                    neighbourhood_cleansed_Allston   -15.379724\n",
              "11                  neighbourhood_cleansed_Brighton   -16.101263\n",
              "38                       property_type_Entire Floor   -16.397340\n",
              "47                            room_type_Shared room   -17.856390\n",
              "22                  neighbourhood_cleansed_Mattapan   -17.963995\n",
              "31              neighbourhood_cleansed_West Roxbury   -18.476735\n",
              "23              neighbourhood_cleansed_Mission Hill   -18.505319\n",
              "46                           room_type_Private room   -18.672507\n",
              "18                 neighbourhood_cleansed_Hyde Park   -19.077075\n",
              "25                neighbourhood_cleansed_Roslindale   -19.350376\n",
              "14                neighbourhood_cleansed_Dorchester   -19.607984\n",
              "81                                 \"Washer / Dryer\"   -23.164662\n",
              "37                               property_type_Dorm   -23.822907\n",
              "35                          property_type_Camper/RV   -52.503885\n",
              "\n",
              "[102 rows x 2 columns]"
            ]
          },
          "metadata": {
            "tags": []
          },
          "execution_count": 52
        }
      ]
    },
    {
      "metadata": {
        "id": "DUL8q7jaIrus",
        "colab_type": "code",
        "colab": {}
      },
      "cell_type": "code",
      "source": [
        ""
      ],
      "execution_count": 0,
      "outputs": []
    },
    {
      "metadata": {
        "id": "EkA-YgJmbxrM",
        "colab_type": "text"
      },
      "cell_type": "markdown",
      "source": [
        "#### What you can see here is that there are several factors that are strongly positively correlated to price, such as the location, the type of property and the cancellation policy (note, I would infer that the strict policy is the result of the premium price, NOT the cause of it!)\n",
        "\n",
        "The model confirms data we saw above where Bay Village, Leather District and the Back Bay neighborhoods are among the most expensive.  In addition, the property types of \"Other\", boat and entire home/apartment are also premium properties. \n",
        "\n",
        "On the other hand, there are several variables that are negatively correlated with the price. These variables include the property type of camper/RV, dorm, and private room. The lower priced neighborhoods include Hyde Park, Roslindale and Dorchester.  \n",
        "\n",
        "The graphs above support these findings while the model's coefficients provide us a way to determine the impact of these variables on the prices."
      ]
    },
    {
      "metadata": {
        "id": "MCYNvNK4PGRM",
        "colab_type": "text"
      },
      "cell_type": "markdown",
      "source": [
        "#### Reviews analysis"
      ]
    },
    {
      "metadata": {
        "id": "_COwRH7vPI6Z",
        "colab_type": "code",
        "colab": {
          "base_uri": "https://localhost:8080/",
          "height": 270
        },
        "outputId": "566ad4be-52b8-4448-8a9e-628e543deb62"
      },
      "cell_type": "code",
      "source": [
        "train_db.head()"
      ],
      "execution_count": 53,
      "outputs": [
        {
          "output_type": "execute_result",
          "data": {
            "text/html": [
              "<div>\n",
              "<style scoped>\n",
              "    .dataframe tbody tr th:only-of-type {\n",
              "        vertical-align: middle;\n",
              "    }\n",
              "\n",
              "    .dataframe tbody tr th {\n",
              "        vertical-align: top;\n",
              "    }\n",
              "\n",
              "    .dataframe thead th {\n",
              "        text-align: right;\n",
              "    }\n",
              "</style>\n",
              "<table border=\"1\" class=\"dataframe\">\n",
              "  <thead>\n",
              "    <tr style=\"text-align: right;\">\n",
              "      <th></th>\n",
              "      <th>accommodates</th>\n",
              "      <th>bathrooms</th>\n",
              "      <th>bedrooms</th>\n",
              "      <th>beds</th>\n",
              "      <th>guests_included</th>\n",
              "      <th>number_of_reviews</th>\n",
              "      <th>calculated_host_listings_count</th>\n",
              "      <th>neighbourhood_cleansed_Allston</th>\n",
              "      <th>neighbourhood_cleansed_Back Bay</th>\n",
              "      <th>neighbourhood_cleansed_Bay Village</th>\n",
              "      <th>...</th>\n",
              "      <th>Gym</th>\n",
              "      <th>Hangers</th>\n",
              "      <th>Heating</th>\n",
              "      <th>Internet</th>\n",
              "      <th>Iron</th>\n",
              "      <th>Kitchen</th>\n",
              "      <th>Pool</th>\n",
              "      <th>Shampoo</th>\n",
              "      <th>TV</th>\n",
              "      <th>Washer</th>\n",
              "    </tr>\n",
              "  </thead>\n",
              "  <tbody>\n",
              "    <tr>\n",
              "      <th>0</th>\n",
              "      <td>4.0</td>\n",
              "      <td>1.5</td>\n",
              "      <td>2.0</td>\n",
              "      <td>3.0</td>\n",
              "      <td>1</td>\n",
              "      <td>0</td>\n",
              "      <td>1</td>\n",
              "      <td>0</td>\n",
              "      <td>0</td>\n",
              "      <td>0</td>\n",
              "      <td>...</td>\n",
              "      <td>0</td>\n",
              "      <td>0</td>\n",
              "      <td>1</td>\n",
              "      <td>0</td>\n",
              "      <td>0</td>\n",
              "      <td>1</td>\n",
              "      <td>0</td>\n",
              "      <td>1</td>\n",
              "      <td>1</td>\n",
              "      <td>1</td>\n",
              "    </tr>\n",
              "    <tr>\n",
              "      <th>1</th>\n",
              "      <td>2.0</td>\n",
              "      <td>1.0</td>\n",
              "      <td>1.0</td>\n",
              "      <td>1.0</td>\n",
              "      <td>0</td>\n",
              "      <td>36</td>\n",
              "      <td>1</td>\n",
              "      <td>0</td>\n",
              "      <td>0</td>\n",
              "      <td>0</td>\n",
              "      <td>...</td>\n",
              "      <td>0</td>\n",
              "      <td>1</td>\n",
              "      <td>1</td>\n",
              "      <td>1</td>\n",
              "      <td>1</td>\n",
              "      <td>1</td>\n",
              "      <td>0</td>\n",
              "      <td>1</td>\n",
              "      <td>1</td>\n",
              "      <td>1</td>\n",
              "    </tr>\n",
              "    <tr>\n",
              "      <th>2</th>\n",
              "      <td>2.0</td>\n",
              "      <td>1.0</td>\n",
              "      <td>1.0</td>\n",
              "      <td>1.0</td>\n",
              "      <td>1</td>\n",
              "      <td>41</td>\n",
              "      <td>1</td>\n",
              "      <td>0</td>\n",
              "      <td>0</td>\n",
              "      <td>0</td>\n",
              "      <td>...</td>\n",
              "      <td>0</td>\n",
              "      <td>0</td>\n",
              "      <td>1</td>\n",
              "      <td>0</td>\n",
              "      <td>0</td>\n",
              "      <td>1</td>\n",
              "      <td>0</td>\n",
              "      <td>1</td>\n",
              "      <td>1</td>\n",
              "      <td>1</td>\n",
              "    </tr>\n",
              "    <tr>\n",
              "      <th>3</th>\n",
              "      <td>4.0</td>\n",
              "      <td>1.0</td>\n",
              "      <td>1.0</td>\n",
              "      <td>2.0</td>\n",
              "      <td>2</td>\n",
              "      <td>1</td>\n",
              "      <td>1</td>\n",
              "      <td>0</td>\n",
              "      <td>0</td>\n",
              "      <td>0</td>\n",
              "      <td>...</td>\n",
              "      <td>1</td>\n",
              "      <td>1</td>\n",
              "      <td>1</td>\n",
              "      <td>1</td>\n",
              "      <td>1</td>\n",
              "      <td>1</td>\n",
              "      <td>0</td>\n",
              "      <td>1</td>\n",
              "      <td>1</td>\n",
              "      <td>1</td>\n",
              "    </tr>\n",
              "    <tr>\n",
              "      <th>4</th>\n",
              "      <td>2.0</td>\n",
              "      <td>1.5</td>\n",
              "      <td>1.0</td>\n",
              "      <td>2.0</td>\n",
              "      <td>1</td>\n",
              "      <td>29</td>\n",
              "      <td>1</td>\n",
              "      <td>0</td>\n",
              "      <td>0</td>\n",
              "      <td>0</td>\n",
              "      <td>...</td>\n",
              "      <td>0</td>\n",
              "      <td>1</td>\n",
              "      <td>1</td>\n",
              "      <td>1</td>\n",
              "      <td>1</td>\n",
              "      <td>1</td>\n",
              "      <td>0</td>\n",
              "      <td>1</td>\n",
              "      <td>0</td>\n",
              "      <td>0</td>\n",
              "    </tr>\n",
              "  </tbody>\n",
              "</table>\n",
              "<p>5 rows × 102 columns</p>\n",
              "</div>"
            ],
            "text/plain": [
              "   accommodates  bathrooms  bedrooms  beds guests_included number_of_reviews  \\\n",
              "0           4.0        1.5       2.0   3.0               1                 0   \n",
              "1           2.0        1.0       1.0   1.0               0                36   \n",
              "2           2.0        1.0       1.0   1.0               1                41   \n",
              "3           4.0        1.0       1.0   2.0               2                 1   \n",
              "4           2.0        1.5       1.0   2.0               1                29   \n",
              "\n",
              "  calculated_host_listings_count  neighbourhood_cleansed_Allston  \\\n",
              "0                              1                               0   \n",
              "1                              1                               0   \n",
              "2                              1                               0   \n",
              "3                              1                               0   \n",
              "4                              1                               0   \n",
              "\n",
              "   neighbourhood_cleansed_Back Bay  neighbourhood_cleansed_Bay Village  \\\n",
              "0                                0                                   0   \n",
              "1                                0                                   0   \n",
              "2                                0                                   0   \n",
              "3                                0                                   0   \n",
              "4                                0                                   0   \n",
              "\n",
              "    ...    Gym  Hangers  Heating  Internet  Iron  Kitchen  Pool  Shampoo  TV  \\\n",
              "0   ...      0        0        1         0     0        1     0        1   1   \n",
              "1   ...      0        1        1         1     1        1     0        1   1   \n",
              "2   ...      0        0        1         0     0        1     0        1   1   \n",
              "3   ...      1        1        1         1     1        1     0        1   1   \n",
              "4   ...      0        1        1         1     1        1     0        1   0   \n",
              "\n",
              "   Washer  \n",
              "0       1  \n",
              "1       1  \n",
              "2       1  \n",
              "3       1  \n",
              "4       0  \n",
              "\n",
              "[5 rows x 102 columns]"
            ]
          },
          "metadata": {
            "tags": []
          },
          "execution_count": 53
        }
      ]
    },
    {
      "metadata": {
        "id": "fqO0yopxKV24",
        "colab_type": "text"
      },
      "cell_type": "markdown",
      "source": [
        "## Using the calendar data, we can determine how prices fluctuate throughout the year"
      ]
    },
    {
      "metadata": {
        "id": "KCO8pTG-MADH",
        "colab_type": "code",
        "colab": {
          "base_uri": "https://localhost:8080/",
          "height": 102
        },
        "outputId": "4d3d9336-7771-44b2-e5c6-dd9dd7bf282c"
      },
      "cell_type": "code",
      "source": [
        "# First, I need to determine if the data is the right type for analysis\n",
        "calendar.dtypes"
      ],
      "execution_count": 54,
      "outputs": [
        {
          "output_type": "execute_result",
          "data": {
            "text/plain": [
              "listing_id    object\n",
              "date          object\n",
              "available     object\n",
              "price         object\n",
              "dtype: object"
            ]
          },
          "metadata": {
            "tags": []
          },
          "execution_count": 54
        }
      ]
    },
    {
      "metadata": {
        "id": "Gtv8AJwAStBm",
        "colab_type": "code",
        "colab": {}
      },
      "cell_type": "code",
      "source": [
        "#### The data is not in the right format, so I will make some translations here:"
      ],
      "execution_count": 0,
      "outputs": []
    },
    {
      "metadata": {
        "id": "jQe2nZ9BUB-_",
        "colab_type": "code",
        "colab": {}
      },
      "cell_type": "code",
      "source": [
        "calendar['date'] = pd.to_datetime(calendar['date'] )\n",
        "calendar['price'] = calendar.price.str.replace(',','')\n",
        "calendar['price'] = calendar.price.str.replace('$','')\n",
        "calendar[['price']] = calendar[['price']].astype(float)"
      ],
      "execution_count": 0,
      "outputs": []
    },
    {
      "metadata": {
        "id": "aEp2QRBZS_R0",
        "colab_type": "code",
        "colab": {
          "base_uri": "https://localhost:8080/",
          "height": 102
        },
        "outputId": "aa61b535-0af8-4cc1-fcb9-62e7a601d957"
      },
      "cell_type": "code",
      "source": [
        "# re-check\n",
        "calendar.dtypes"
      ],
      "execution_count": 57,
      "outputs": [
        {
          "output_type": "execute_result",
          "data": {
            "text/plain": [
              "listing_id            object\n",
              "date          datetime64[ns]\n",
              "available             object\n",
              "price                float64\n",
              "dtype: object"
            ]
          },
          "metadata": {
            "tags": []
          },
          "execution_count": 57
        }
      ]
    },
    {
      "metadata": {
        "id": "nYRZa5_fUWVd",
        "colab_type": "code",
        "colab": {}
      },
      "cell_type": "code",
      "source": [
        "# looks good now.\n",
        "# Now I will set up the table to use in a line chart:"
      ],
      "execution_count": 0,
      "outputs": []
    },
    {
      "metadata": {
        "id": "0eoaH5sBTBSY",
        "colab_type": "code",
        "colab": {}
      },
      "cell_type": "code",
      "source": [
        "timeline = calendar.groupby(['date'])['price'].mean()\n",
        "timeline = timeline.to_frame().reset_index()\n",
        "timeline = timeline.sort_values(by='date',ascending=True)"
      ],
      "execution_count": 0,
      "outputs": []
    },
    {
      "metadata": {
        "id": "WA5c8Nw3TdR0",
        "colab_type": "code",
        "colab": {
          "base_uri": "https://localhost:8080/",
          "height": 364
        },
        "outputId": "e6925660-b2d8-497d-a23d-1b1651a51649"
      },
      "cell_type": "code",
      "source": [
        "plt.plot(timeline['date'],timeline['price'])"
      ],
      "execution_count": 60,
      "outputs": [
        {
          "output_type": "execute_result",
          "data": {
            "text/plain": [
              "[<matplotlib.lines.Line2D at 0x7f8586d48320>]"
            ]
          },
          "metadata": {
            "tags": []
          },
          "execution_count": 60
        },
        {
          "output_type": "display_data",
          "data": {
            "image/png": "[encoded data removed]",
            "text/plain": [
              "<matplotlib.figure.Figure at 0x7f858851aac8>"
            ]
          },
          "metadata": {
            "tags": []
          }
        }
      ]
    },
    {
      "metadata": {
        "id": "5gEDxtwnki7d",
        "colab_type": "code",
        "colab": {}
      },
      "cell_type": "code",
      "source": [
        ""
      ],
      "execution_count": 0,
      "outputs": []
    }
  ]
}